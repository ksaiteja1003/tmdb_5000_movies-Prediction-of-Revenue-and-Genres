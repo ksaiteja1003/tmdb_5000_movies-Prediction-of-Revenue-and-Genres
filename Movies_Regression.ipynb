{
 "cells": [
  {
   "cell_type": "markdown",
   "metadata": {},
   "source": [
    "# PREDICTION OF Revenue and Genre"
   ]
  },
  {
   "cell_type": "markdown",
   "metadata": {},
   "source": [
    "## Libraries"
   ]
  },
  {
   "cell_type": "code",
   "execution_count": 1,
   "metadata": {},
   "outputs": [],
   "source": [
    "import pandas as pd\n",
    "import numpy as np\n",
    "import seaborn as sns\n",
    "import matplotlib.pyplot as plt\n",
    "\n",
    "pd.set_option('display.max_columns',999)\n",
    "pd.set_option('display.max_rows',3998)\n",
    "\n",
    "import warnings\n",
    "warnings.filterwarnings('ignore')"
   ]
  },
  {
   "cell_type": "markdown",
   "metadata": {},
   "source": [
    "## Reading The Data"
   ]
  },
  {
   "cell_type": "code",
   "execution_count": 2,
   "metadata": {},
   "outputs": [],
   "source": [
    "df = pd.read_csv('tmdb_5000_movies.csv')"
   ]
  },
  {
   "cell_type": "code",
   "execution_count": 3,
   "metadata": {
    "scrolled": false
   },
   "outputs": [
    {
     "data": {
      "text/html": [
       "<div>\n",
       "<style scoped>\n",
       "    .dataframe tbody tr th:only-of-type {\n",
       "        vertical-align: middle;\n",
       "    }\n",
       "\n",
       "    .dataframe tbody tr th {\n",
       "        vertical-align: top;\n",
       "    }\n",
       "\n",
       "    .dataframe thead th {\n",
       "        text-align: right;\n",
       "    }\n",
       "</style>\n",
       "<table border=\"1\" class=\"dataframe\">\n",
       "  <thead>\n",
       "    <tr style=\"text-align: right;\">\n",
       "      <th></th>\n",
       "      <th>budget</th>\n",
       "      <th>genres</th>\n",
       "      <th>homepage</th>\n",
       "      <th>id</th>\n",
       "      <th>keywords</th>\n",
       "      <th>original_language</th>\n",
       "      <th>original_title</th>\n",
       "      <th>overview</th>\n",
       "      <th>popularity</th>\n",
       "      <th>production_companies</th>\n",
       "      <th>production_countries</th>\n",
       "      <th>release_date</th>\n",
       "      <th>revenue</th>\n",
       "      <th>runtime</th>\n",
       "      <th>spoken_languages</th>\n",
       "      <th>status</th>\n",
       "      <th>tagline</th>\n",
       "      <th>title</th>\n",
       "      <th>vote_average</th>\n",
       "      <th>vote_count</th>\n",
       "    </tr>\n",
       "  </thead>\n",
       "  <tbody>\n",
       "    <tr>\n",
       "      <th>0</th>\n",
       "      <td>237000000</td>\n",
       "      <td>[{\"id\": 28, \"name\": \"Action\"}, {\"id\": 12, \"nam...</td>\n",
       "      <td>http://www.avatarmovie.com/</td>\n",
       "      <td>19995</td>\n",
       "      <td>[{\"id\": 1463, \"name\": \"culture clash\"}, {\"id\":...</td>\n",
       "      <td>en</td>\n",
       "      <td>Avatar</td>\n",
       "      <td>In the 22nd century, a paraplegic Marine is di...</td>\n",
       "      <td>150.437577</td>\n",
       "      <td>[{\"name\": \"Ingenious Film Partners\", \"id\": 289...</td>\n",
       "      <td>[{\"iso_3166_1\": \"US\", \"name\": \"United States o...</td>\n",
       "      <td>2009-12-10</td>\n",
       "      <td>2787965087</td>\n",
       "      <td>162.0</td>\n",
       "      <td>[{\"iso_639_1\": \"en\", \"name\": \"English\"}, {\"iso...</td>\n",
       "      <td>Released</td>\n",
       "      <td>Enter the World of Pandora.</td>\n",
       "      <td>Avatar</td>\n",
       "      <td>7.2</td>\n",
       "      <td>11800</td>\n",
       "    </tr>\n",
       "    <tr>\n",
       "      <th>1</th>\n",
       "      <td>300000000</td>\n",
       "      <td>[{\"id\": 12, \"name\": \"Adventure\"}, {\"id\": 14, \"...</td>\n",
       "      <td>http://disney.go.com/disneypictures/pirates/</td>\n",
       "      <td>285</td>\n",
       "      <td>[{\"id\": 270, \"name\": \"ocean\"}, {\"id\": 726, \"na...</td>\n",
       "      <td>en</td>\n",
       "      <td>Pirates of the Caribbean: At World's End</td>\n",
       "      <td>Captain Barbossa, long believed to be dead, ha...</td>\n",
       "      <td>139.082615</td>\n",
       "      <td>[{\"name\": \"Walt Disney Pictures\", \"id\": 2}, {\"...</td>\n",
       "      <td>[{\"iso_3166_1\": \"US\", \"name\": \"United States o...</td>\n",
       "      <td>2007-05-19</td>\n",
       "      <td>961000000</td>\n",
       "      <td>169.0</td>\n",
       "      <td>[{\"iso_639_1\": \"en\", \"name\": \"English\"}]</td>\n",
       "      <td>Released</td>\n",
       "      <td>At the end of the world, the adventure begins.</td>\n",
       "      <td>Pirates of the Caribbean: At World's End</td>\n",
       "      <td>6.9</td>\n",
       "      <td>4500</td>\n",
       "    </tr>\n",
       "    <tr>\n",
       "      <th>2</th>\n",
       "      <td>245000000</td>\n",
       "      <td>[{\"id\": 28, \"name\": \"Action\"}, {\"id\": 12, \"nam...</td>\n",
       "      <td>http://www.sonypictures.com/movies/spectre/</td>\n",
       "      <td>206647</td>\n",
       "      <td>[{\"id\": 470, \"name\": \"spy\"}, {\"id\": 818, \"name...</td>\n",
       "      <td>en</td>\n",
       "      <td>Spectre</td>\n",
       "      <td>A cryptic message from Bond’s past sends him o...</td>\n",
       "      <td>107.376788</td>\n",
       "      <td>[{\"name\": \"Columbia Pictures\", \"id\": 5}, {\"nam...</td>\n",
       "      <td>[{\"iso_3166_1\": \"GB\", \"name\": \"United Kingdom\"...</td>\n",
       "      <td>2015-10-26</td>\n",
       "      <td>880674609</td>\n",
       "      <td>148.0</td>\n",
       "      <td>[{\"iso_639_1\": \"fr\", \"name\": \"Fran\\u00e7ais\"},...</td>\n",
       "      <td>Released</td>\n",
       "      <td>A Plan No One Escapes</td>\n",
       "      <td>Spectre</td>\n",
       "      <td>6.3</td>\n",
       "      <td>4466</td>\n",
       "    </tr>\n",
       "    <tr>\n",
       "      <th>3</th>\n",
       "      <td>250000000</td>\n",
       "      <td>[{\"id\": 28, \"name\": \"Action\"}, {\"id\": 80, \"nam...</td>\n",
       "      <td>http://www.thedarkknightrises.com/</td>\n",
       "      <td>49026</td>\n",
       "      <td>[{\"id\": 849, \"name\": \"dc comics\"}, {\"id\": 853,...</td>\n",
       "      <td>en</td>\n",
       "      <td>The Dark Knight Rises</td>\n",
       "      <td>Following the death of District Attorney Harve...</td>\n",
       "      <td>112.312950</td>\n",
       "      <td>[{\"name\": \"Legendary Pictures\", \"id\": 923}, {\"...</td>\n",
       "      <td>[{\"iso_3166_1\": \"US\", \"name\": \"United States o...</td>\n",
       "      <td>2012-07-16</td>\n",
       "      <td>1084939099</td>\n",
       "      <td>165.0</td>\n",
       "      <td>[{\"iso_639_1\": \"en\", \"name\": \"English\"}]</td>\n",
       "      <td>Released</td>\n",
       "      <td>The Legend Ends</td>\n",
       "      <td>The Dark Knight Rises</td>\n",
       "      <td>7.6</td>\n",
       "      <td>9106</td>\n",
       "    </tr>\n",
       "    <tr>\n",
       "      <th>4</th>\n",
       "      <td>260000000</td>\n",
       "      <td>[{\"id\": 28, \"name\": \"Action\"}, {\"id\": 12, \"nam...</td>\n",
       "      <td>http://movies.disney.com/john-carter</td>\n",
       "      <td>49529</td>\n",
       "      <td>[{\"id\": 818, \"name\": \"based on novel\"}, {\"id\":...</td>\n",
       "      <td>en</td>\n",
       "      <td>John Carter</td>\n",
       "      <td>John Carter is a war-weary, former military ca...</td>\n",
       "      <td>43.926995</td>\n",
       "      <td>[{\"name\": \"Walt Disney Pictures\", \"id\": 2}]</td>\n",
       "      <td>[{\"iso_3166_1\": \"US\", \"name\": \"United States o...</td>\n",
       "      <td>2012-03-07</td>\n",
       "      <td>284139100</td>\n",
       "      <td>132.0</td>\n",
       "      <td>[{\"iso_639_1\": \"en\", \"name\": \"English\"}]</td>\n",
       "      <td>Released</td>\n",
       "      <td>Lost in our world, found in another.</td>\n",
       "      <td>John Carter</td>\n",
       "      <td>6.1</td>\n",
       "      <td>2124</td>\n",
       "    </tr>\n",
       "  </tbody>\n",
       "</table>\n",
       "</div>"
      ],
      "text/plain": [
       "      budget                                             genres  \\\n",
       "0  237000000  [{\"id\": 28, \"name\": \"Action\"}, {\"id\": 12, \"nam...   \n",
       "1  300000000  [{\"id\": 12, \"name\": \"Adventure\"}, {\"id\": 14, \"...   \n",
       "2  245000000  [{\"id\": 28, \"name\": \"Action\"}, {\"id\": 12, \"nam...   \n",
       "3  250000000  [{\"id\": 28, \"name\": \"Action\"}, {\"id\": 80, \"nam...   \n",
       "4  260000000  [{\"id\": 28, \"name\": \"Action\"}, {\"id\": 12, \"nam...   \n",
       "\n",
       "                                       homepage      id  \\\n",
       "0                   http://www.avatarmovie.com/   19995   \n",
       "1  http://disney.go.com/disneypictures/pirates/     285   \n",
       "2   http://www.sonypictures.com/movies/spectre/  206647   \n",
       "3            http://www.thedarkknightrises.com/   49026   \n",
       "4          http://movies.disney.com/john-carter   49529   \n",
       "\n",
       "                                            keywords original_language  \\\n",
       "0  [{\"id\": 1463, \"name\": \"culture clash\"}, {\"id\":...                en   \n",
       "1  [{\"id\": 270, \"name\": \"ocean\"}, {\"id\": 726, \"na...                en   \n",
       "2  [{\"id\": 470, \"name\": \"spy\"}, {\"id\": 818, \"name...                en   \n",
       "3  [{\"id\": 849, \"name\": \"dc comics\"}, {\"id\": 853,...                en   \n",
       "4  [{\"id\": 818, \"name\": \"based on novel\"}, {\"id\":...                en   \n",
       "\n",
       "                             original_title  \\\n",
       "0                                    Avatar   \n",
       "1  Pirates of the Caribbean: At World's End   \n",
       "2                                   Spectre   \n",
       "3                     The Dark Knight Rises   \n",
       "4                               John Carter   \n",
       "\n",
       "                                            overview  popularity  \\\n",
       "0  In the 22nd century, a paraplegic Marine is di...  150.437577   \n",
       "1  Captain Barbossa, long believed to be dead, ha...  139.082615   \n",
       "2  A cryptic message from Bond’s past sends him o...  107.376788   \n",
       "3  Following the death of District Attorney Harve...  112.312950   \n",
       "4  John Carter is a war-weary, former military ca...   43.926995   \n",
       "\n",
       "                                production_companies  \\\n",
       "0  [{\"name\": \"Ingenious Film Partners\", \"id\": 289...   \n",
       "1  [{\"name\": \"Walt Disney Pictures\", \"id\": 2}, {\"...   \n",
       "2  [{\"name\": \"Columbia Pictures\", \"id\": 5}, {\"nam...   \n",
       "3  [{\"name\": \"Legendary Pictures\", \"id\": 923}, {\"...   \n",
       "4        [{\"name\": \"Walt Disney Pictures\", \"id\": 2}]   \n",
       "\n",
       "                                production_countries release_date     revenue  \\\n",
       "0  [{\"iso_3166_1\": \"US\", \"name\": \"United States o...   2009-12-10  2787965087   \n",
       "1  [{\"iso_3166_1\": \"US\", \"name\": \"United States o...   2007-05-19   961000000   \n",
       "2  [{\"iso_3166_1\": \"GB\", \"name\": \"United Kingdom\"...   2015-10-26   880674609   \n",
       "3  [{\"iso_3166_1\": \"US\", \"name\": \"United States o...   2012-07-16  1084939099   \n",
       "4  [{\"iso_3166_1\": \"US\", \"name\": \"United States o...   2012-03-07   284139100   \n",
       "\n",
       "   runtime                                   spoken_languages    status  \\\n",
       "0    162.0  [{\"iso_639_1\": \"en\", \"name\": \"English\"}, {\"iso...  Released   \n",
       "1    169.0           [{\"iso_639_1\": \"en\", \"name\": \"English\"}]  Released   \n",
       "2    148.0  [{\"iso_639_1\": \"fr\", \"name\": \"Fran\\u00e7ais\"},...  Released   \n",
       "3    165.0           [{\"iso_639_1\": \"en\", \"name\": \"English\"}]  Released   \n",
       "4    132.0           [{\"iso_639_1\": \"en\", \"name\": \"English\"}]  Released   \n",
       "\n",
       "                                          tagline  \\\n",
       "0                     Enter the World of Pandora.   \n",
       "1  At the end of the world, the adventure begins.   \n",
       "2                           A Plan No One Escapes   \n",
       "3                                 The Legend Ends   \n",
       "4            Lost in our world, found in another.   \n",
       "\n",
       "                                      title  vote_average  vote_count  \n",
       "0                                    Avatar           7.2       11800  \n",
       "1  Pirates of the Caribbean: At World's End           6.9        4500  \n",
       "2                                   Spectre           6.3        4466  \n",
       "3                     The Dark Knight Rises           7.6        9106  \n",
       "4                               John Carter           6.1        2124  "
      ]
     },
     "execution_count": 3,
     "metadata": {},
     "output_type": "execute_result"
    }
   ],
   "source": [
    "df.head()"
   ]
  },
  {
   "cell_type": "code",
   "execution_count": 4,
   "metadata": {},
   "outputs": [],
   "source": [
    "df.drop(['id','original_title','title','status','homepage','tagline','overview'],axis=1,inplace=True)\n",
    "#Dropped the columns which are unnecessary."
   ]
  },
  {
   "cell_type": "code",
   "execution_count": 5,
   "metadata": {},
   "outputs": [
    {
     "data": {
      "text/plain": [
       "(4803, 13)"
      ]
     },
     "execution_count": 5,
     "metadata": {},
     "output_type": "execute_result"
    }
   ],
   "source": [
    "df.shape"
   ]
  },
  {
   "cell_type": "markdown",
   "metadata": {},
   "source": [
    "## Checking Null Values"
   ]
  },
  {
   "cell_type": "code",
   "execution_count": 6,
   "metadata": {},
   "outputs": [
    {
     "data": {
      "text/plain": [
       "budget                  0\n",
       "genres                  0\n",
       "keywords                0\n",
       "original_language       0\n",
       "popularity              0\n",
       "production_companies    0\n",
       "production_countries    0\n",
       "release_date            1\n",
       "revenue                 0\n",
       "runtime                 2\n",
       "spoken_languages        0\n",
       "vote_average            0\n",
       "vote_count              0\n",
       "dtype: int64"
      ]
     },
     "execution_count": 6,
     "metadata": {},
     "output_type": "execute_result"
    }
   ],
   "source": [
    "df.isnull().sum()"
   ]
  },
  {
   "cell_type": "markdown",
   "metadata": {},
   "source": [
    "## Checking Info"
   ]
  },
  {
   "cell_type": "code",
   "execution_count": 7,
   "metadata": {},
   "outputs": [
    {
     "name": "stdout",
     "output_type": "stream",
     "text": [
      "<class 'pandas.core.frame.DataFrame'>\n",
      "RangeIndex: 4803 entries, 0 to 4802\n",
      "Data columns (total 13 columns):\n",
      "budget                  4803 non-null int64\n",
      "genres                  4803 non-null object\n",
      "keywords                4803 non-null object\n",
      "original_language       4803 non-null object\n",
      "popularity              4803 non-null float64\n",
      "production_companies    4803 non-null object\n",
      "production_countries    4803 non-null object\n",
      "release_date            4802 non-null object\n",
      "revenue                 4803 non-null int64\n",
      "runtime                 4801 non-null float64\n",
      "spoken_languages        4803 non-null object\n",
      "vote_average            4803 non-null float64\n",
      "vote_count              4803 non-null int64\n",
      "dtypes: float64(3), int64(3), object(7)\n",
      "memory usage: 487.9+ KB\n"
     ]
    }
   ],
   "source": [
    "df.info()"
   ]
  },
  {
   "cell_type": "markdown",
   "metadata": {},
   "source": [
    "## Converting Float Type to Int Type"
   ]
  },
  {
   "cell_type": "code",
   "execution_count": 8,
   "metadata": {},
   "outputs": [],
   "source": [
    "df['popularity']=df['popularity'].astype('int64')"
   ]
  },
  {
   "cell_type": "markdown",
   "metadata": {},
   "source": [
    "## Release Date Splitting"
   ]
  },
  {
   "cell_type": "code",
   "execution_count": 9,
   "metadata": {},
   "outputs": [],
   "source": [
    "data_a = df['release_date'].str.split('-',0,expand=True)\n",
    "df['release_date'] = data_a[0]"
   ]
  },
  {
   "cell_type": "markdown",
   "metadata": {},
   "source": [
    "## Genres Splitting"
   ]
  },
  {
   "cell_type": "code",
   "execution_count": 10,
   "metadata": {},
   "outputs": [
    {
     "data": {
      "text/plain": [
       "0    [{\"id\": 28, \"name\": \"Action\"}, {\"id\": 12, \"nam...\n",
       "1    [{\"id\": 12, \"name\": \"Adventure\"}, {\"id\": 14, \"...\n",
       "2    [{\"id\": 28, \"name\": \"Action\"}, {\"id\": 12, \"nam...\n",
       "Name: genres, dtype: object"
      ]
     },
     "execution_count": 10,
     "metadata": {},
     "output_type": "execute_result"
    }
   ],
   "source": [
    "df['genres'].head(3)"
   ]
  },
  {
   "cell_type": "code",
   "execution_count": 11,
   "metadata": {},
   "outputs": [
    {
     "data": {
      "text/html": [
       "<div>\n",
       "<style scoped>\n",
       "    .dataframe tbody tr th:only-of-type {\n",
       "        vertical-align: middle;\n",
       "    }\n",
       "\n",
       "    .dataframe tbody tr th {\n",
       "        vertical-align: top;\n",
       "    }\n",
       "\n",
       "    .dataframe thead th {\n",
       "        text-align: right;\n",
       "    }\n",
       "</style>\n",
       "<table border=\"1\" class=\"dataframe\">\n",
       "  <thead>\n",
       "    <tr style=\"text-align: right;\">\n",
       "      <th></th>\n",
       "      <th>0</th>\n",
       "      <th>1</th>\n",
       "      <th>2</th>\n",
       "    </tr>\n",
       "  </thead>\n",
       "  <tbody>\n",
       "    <tr>\n",
       "      <th>0</th>\n",
       "      <td>[{\"id\"</td>\n",
       "      <td>28, \"name\"</td>\n",
       "      <td>\"Action\"}, {\"id\": 12, \"name\": \"Adventure\"}, {...</td>\n",
       "    </tr>\n",
       "    <tr>\n",
       "      <th>1</th>\n",
       "      <td>[{\"id\"</td>\n",
       "      <td>12, \"name\"</td>\n",
       "      <td>\"Adventure\"}, {\"id\": 14, \"name\": \"Fantasy\"}, ...</td>\n",
       "    </tr>\n",
       "    <tr>\n",
       "      <th>2</th>\n",
       "      <td>[{\"id\"</td>\n",
       "      <td>28, \"name\"</td>\n",
       "      <td>\"Action\"}, {\"id\": 12, \"name\": \"Adventure\"}, {...</td>\n",
       "    </tr>\n",
       "  </tbody>\n",
       "</table>\n",
       "</div>"
      ],
      "text/plain": [
       "        0            1                                                  2\n",
       "0  [{\"id\"   28, \"name\"   \"Action\"}, {\"id\": 12, \"name\": \"Adventure\"}, {...\n",
       "1  [{\"id\"   12, \"name\"   \"Adventure\"}, {\"id\": 14, \"name\": \"Fantasy\"}, ...\n",
       "2  [{\"id\"   28, \"name\"   \"Action\"}, {\"id\": 12, \"name\": \"Adventure\"}, {..."
      ]
     },
     "execution_count": 11,
     "metadata": {},
     "output_type": "execute_result"
    }
   ],
   "source": [
    "data_b = df['genres'].str.split(':',2,expand=True)\n",
    "data_b.head(3)"
   ]
  },
  {
   "cell_type": "code",
   "execution_count": 12,
   "metadata": {},
   "outputs": [
    {
     "data": {
      "text/html": [
       "<div>\n",
       "<style scoped>\n",
       "    .dataframe tbody tr th:only-of-type {\n",
       "        vertical-align: middle;\n",
       "    }\n",
       "\n",
       "    .dataframe tbody tr th {\n",
       "        vertical-align: top;\n",
       "    }\n",
       "\n",
       "    .dataframe thead th {\n",
       "        text-align: right;\n",
       "    }\n",
       "</style>\n",
       "<table border=\"1\" class=\"dataframe\">\n",
       "  <thead>\n",
       "    <tr style=\"text-align: right;\">\n",
       "      <th></th>\n",
       "      <th>0</th>\n",
       "      <th>1</th>\n",
       "    </tr>\n",
       "  </thead>\n",
       "  <tbody>\n",
       "    <tr>\n",
       "      <th>0</th>\n",
       "      <td>\"Action\"</td>\n",
       "      <td>, {\"id\": 12, \"name\": \"Adventure\"}, {\"id\": 14, ...</td>\n",
       "    </tr>\n",
       "    <tr>\n",
       "      <th>1</th>\n",
       "      <td>\"Adventure\"</td>\n",
       "      <td>, {\"id\": 14, \"name\": \"Fantasy\"}, {\"id\": 28, \"n...</td>\n",
       "    </tr>\n",
       "    <tr>\n",
       "      <th>2</th>\n",
       "      <td>\"Action\"</td>\n",
       "      <td>, {\"id\": 12, \"name\": \"Adventure\"}, {\"id\": 80, ...</td>\n",
       "    </tr>\n",
       "  </tbody>\n",
       "</table>\n",
       "</div>"
      ],
      "text/plain": [
       "              0                                                  1\n",
       "0      \"Action\"  , {\"id\": 12, \"name\": \"Adventure\"}, {\"id\": 14, ...\n",
       "1   \"Adventure\"  , {\"id\": 14, \"name\": \"Fantasy\"}, {\"id\": 28, \"n...\n",
       "2      \"Action\"  , {\"id\": 12, \"name\": \"Adventure\"}, {\"id\": 80, ..."
      ]
     },
     "execution_count": 12,
     "metadata": {},
     "output_type": "execute_result"
    }
   ],
   "source": [
    "data_c = data_b[2].str.split('}',1,expand=True)\n",
    "data_c.head(3)"
   ]
  },
  {
   "cell_type": "code",
   "execution_count": 13,
   "metadata": {},
   "outputs": [
    {
     "data": {
      "text/html": [
       "<div>\n",
       "<style scoped>\n",
       "    .dataframe tbody tr th:only-of-type {\n",
       "        vertical-align: middle;\n",
       "    }\n",
       "\n",
       "    .dataframe tbody tr th {\n",
       "        vertical-align: top;\n",
       "    }\n",
       "\n",
       "    .dataframe thead th {\n",
       "        text-align: right;\n",
       "    }\n",
       "</style>\n",
       "<table border=\"1\" class=\"dataframe\">\n",
       "  <thead>\n",
       "    <tr style=\"text-align: right;\">\n",
       "      <th></th>\n",
       "      <th>0</th>\n",
       "      <th>1</th>\n",
       "    </tr>\n",
       "  </thead>\n",
       "  <tbody>\n",
       "    <tr>\n",
       "      <th>0</th>\n",
       "      <td></td>\n",
       "      <td>Action\"</td>\n",
       "    </tr>\n",
       "    <tr>\n",
       "      <th>1</th>\n",
       "      <td></td>\n",
       "      <td>Adventure\"</td>\n",
       "    </tr>\n",
       "    <tr>\n",
       "      <th>2</th>\n",
       "      <td></td>\n",
       "      <td>Action\"</td>\n",
       "    </tr>\n",
       "  </tbody>\n",
       "</table>\n",
       "</div>"
      ],
      "text/plain": [
       "   0           1\n",
       "0        Action\"\n",
       "1     Adventure\"\n",
       "2        Action\""
      ]
     },
     "execution_count": 13,
     "metadata": {},
     "output_type": "execute_result"
    }
   ],
   "source": [
    "data_d = data_c[0].str.split('\"',1,expand=True)\n",
    "data_d.head(3)"
   ]
  },
  {
   "cell_type": "code",
   "execution_count": 14,
   "metadata": {},
   "outputs": [
    {
     "data": {
      "text/html": [
       "<div>\n",
       "<style scoped>\n",
       "    .dataframe tbody tr th:only-of-type {\n",
       "        vertical-align: middle;\n",
       "    }\n",
       "\n",
       "    .dataframe tbody tr th {\n",
       "        vertical-align: top;\n",
       "    }\n",
       "\n",
       "    .dataframe thead th {\n",
       "        text-align: right;\n",
       "    }\n",
       "</style>\n",
       "<table border=\"1\" class=\"dataframe\">\n",
       "  <thead>\n",
       "    <tr style=\"text-align: right;\">\n",
       "      <th></th>\n",
       "      <th>0</th>\n",
       "      <th>1</th>\n",
       "    </tr>\n",
       "  </thead>\n",
       "  <tbody>\n",
       "    <tr>\n",
       "      <th>0</th>\n",
       "      <td>Action</td>\n",
       "      <td></td>\n",
       "    </tr>\n",
       "    <tr>\n",
       "      <th>1</th>\n",
       "      <td>Adventure</td>\n",
       "      <td></td>\n",
       "    </tr>\n",
       "    <tr>\n",
       "      <th>2</th>\n",
       "      <td>Action</td>\n",
       "      <td></td>\n",
       "    </tr>\n",
       "  </tbody>\n",
       "</table>\n",
       "</div>"
      ],
      "text/plain": [
       "           0 1\n",
       "0     Action  \n",
       "1  Adventure  \n",
       "2     Action  "
      ]
     },
     "execution_count": 14,
     "metadata": {},
     "output_type": "execute_result"
    }
   ],
   "source": [
    "data_f = data_d[1].str.split('\"',0,expand=True)\n",
    "data_f.head(3)"
   ]
  },
  {
   "cell_type": "code",
   "execution_count": 15,
   "metadata": {
    "scrolled": false
   },
   "outputs": [
    {
     "data": {
      "text/plain": [
       "Drama              1207\n",
       "Comedy             1042\n",
       "Action              754\n",
       "Adventure           339\n",
       "Horror              300\n",
       "Crime               195\n",
       "Thriller            194\n",
       "Animation           123\n",
       "Fantasy             117\n",
       "Romance             106\n",
       "Science Fiction      96\n",
       "Documentary          89\n",
       "Family               56\n",
       "Mystery              41\n",
       "Music                34\n",
       "Western              27\n",
       "History              25\n",
       "War                  24\n",
       "TV Movie              4\n",
       "Foreign               2\n",
       "Name: 0, dtype: int64"
      ]
     },
     "execution_count": 15,
     "metadata": {},
     "output_type": "execute_result"
    }
   ],
   "source": [
    "data_f[0].value_counts()"
   ]
  },
  {
   "cell_type": "code",
   "execution_count": 16,
   "metadata": {},
   "outputs": [],
   "source": [
    "df['genres'] = data_f[0]"
   ]
  },
  {
   "cell_type": "code",
   "execution_count": 17,
   "metadata": {},
   "outputs": [
    {
     "data": {
      "text/html": [
       "<div>\n",
       "<style scoped>\n",
       "    .dataframe tbody tr th:only-of-type {\n",
       "        vertical-align: middle;\n",
       "    }\n",
       "\n",
       "    .dataframe tbody tr th {\n",
       "        vertical-align: top;\n",
       "    }\n",
       "\n",
       "    .dataframe thead th {\n",
       "        text-align: right;\n",
       "    }\n",
       "</style>\n",
       "<table border=\"1\" class=\"dataframe\">\n",
       "  <thead>\n",
       "    <tr style=\"text-align: right;\">\n",
       "      <th></th>\n",
       "      <th>budget</th>\n",
       "      <th>genres</th>\n",
       "      <th>keywords</th>\n",
       "      <th>original_language</th>\n",
       "      <th>popularity</th>\n",
       "      <th>production_companies</th>\n",
       "      <th>production_countries</th>\n",
       "      <th>release_date</th>\n",
       "      <th>revenue</th>\n",
       "      <th>runtime</th>\n",
       "      <th>spoken_languages</th>\n",
       "      <th>vote_average</th>\n",
       "      <th>vote_count</th>\n",
       "    </tr>\n",
       "  </thead>\n",
       "  <tbody>\n",
       "    <tr>\n",
       "      <th>0</th>\n",
       "      <td>237000000</td>\n",
       "      <td>Action</td>\n",
       "      <td>[{\"id\": 1463, \"name\": \"culture clash\"}, {\"id\":...</td>\n",
       "      <td>en</td>\n",
       "      <td>150</td>\n",
       "      <td>[{\"name\": \"Ingenious Film Partners\", \"id\": 289...</td>\n",
       "      <td>[{\"iso_3166_1\": \"US\", \"name\": \"United States o...</td>\n",
       "      <td>2009</td>\n",
       "      <td>2787965087</td>\n",
       "      <td>162.0</td>\n",
       "      <td>[{\"iso_639_1\": \"en\", \"name\": \"English\"}, {\"iso...</td>\n",
       "      <td>7.2</td>\n",
       "      <td>11800</td>\n",
       "    </tr>\n",
       "    <tr>\n",
       "      <th>1</th>\n",
       "      <td>300000000</td>\n",
       "      <td>Adventure</td>\n",
       "      <td>[{\"id\": 270, \"name\": \"ocean\"}, {\"id\": 726, \"na...</td>\n",
       "      <td>en</td>\n",
       "      <td>139</td>\n",
       "      <td>[{\"name\": \"Walt Disney Pictures\", \"id\": 2}, {\"...</td>\n",
       "      <td>[{\"iso_3166_1\": \"US\", \"name\": \"United States o...</td>\n",
       "      <td>2007</td>\n",
       "      <td>961000000</td>\n",
       "      <td>169.0</td>\n",
       "      <td>[{\"iso_639_1\": \"en\", \"name\": \"English\"}]</td>\n",
       "      <td>6.9</td>\n",
       "      <td>4500</td>\n",
       "    </tr>\n",
       "    <tr>\n",
       "      <th>2</th>\n",
       "      <td>245000000</td>\n",
       "      <td>Action</td>\n",
       "      <td>[{\"id\": 470, \"name\": \"spy\"}, {\"id\": 818, \"name...</td>\n",
       "      <td>en</td>\n",
       "      <td>107</td>\n",
       "      <td>[{\"name\": \"Columbia Pictures\", \"id\": 5}, {\"nam...</td>\n",
       "      <td>[{\"iso_3166_1\": \"GB\", \"name\": \"United Kingdom\"...</td>\n",
       "      <td>2015</td>\n",
       "      <td>880674609</td>\n",
       "      <td>148.0</td>\n",
       "      <td>[{\"iso_639_1\": \"fr\", \"name\": \"Fran\\u00e7ais\"},...</td>\n",
       "      <td>6.3</td>\n",
       "      <td>4466</td>\n",
       "    </tr>\n",
       "    <tr>\n",
       "      <th>3</th>\n",
       "      <td>250000000</td>\n",
       "      <td>Action</td>\n",
       "      <td>[{\"id\": 849, \"name\": \"dc comics\"}, {\"id\": 853,...</td>\n",
       "      <td>en</td>\n",
       "      <td>112</td>\n",
       "      <td>[{\"name\": \"Legendary Pictures\", \"id\": 923}, {\"...</td>\n",
       "      <td>[{\"iso_3166_1\": \"US\", \"name\": \"United States o...</td>\n",
       "      <td>2012</td>\n",
       "      <td>1084939099</td>\n",
       "      <td>165.0</td>\n",
       "      <td>[{\"iso_639_1\": \"en\", \"name\": \"English\"}]</td>\n",
       "      <td>7.6</td>\n",
       "      <td>9106</td>\n",
       "    </tr>\n",
       "    <tr>\n",
       "      <th>4</th>\n",
       "      <td>260000000</td>\n",
       "      <td>Action</td>\n",
       "      <td>[{\"id\": 818, \"name\": \"based on novel\"}, {\"id\":...</td>\n",
       "      <td>en</td>\n",
       "      <td>43</td>\n",
       "      <td>[{\"name\": \"Walt Disney Pictures\", \"id\": 2}]</td>\n",
       "      <td>[{\"iso_3166_1\": \"US\", \"name\": \"United States o...</td>\n",
       "      <td>2012</td>\n",
       "      <td>284139100</td>\n",
       "      <td>132.0</td>\n",
       "      <td>[{\"iso_639_1\": \"en\", \"name\": \"English\"}]</td>\n",
       "      <td>6.1</td>\n",
       "      <td>2124</td>\n",
       "    </tr>\n",
       "  </tbody>\n",
       "</table>\n",
       "</div>"
      ],
      "text/plain": [
       "      budget     genres                                           keywords  \\\n",
       "0  237000000     Action  [{\"id\": 1463, \"name\": \"culture clash\"}, {\"id\":...   \n",
       "1  300000000  Adventure  [{\"id\": 270, \"name\": \"ocean\"}, {\"id\": 726, \"na...   \n",
       "2  245000000     Action  [{\"id\": 470, \"name\": \"spy\"}, {\"id\": 818, \"name...   \n",
       "3  250000000     Action  [{\"id\": 849, \"name\": \"dc comics\"}, {\"id\": 853,...   \n",
       "4  260000000     Action  [{\"id\": 818, \"name\": \"based on novel\"}, {\"id\":...   \n",
       "\n",
       "  original_language  popularity  \\\n",
       "0                en         150   \n",
       "1                en         139   \n",
       "2                en         107   \n",
       "3                en         112   \n",
       "4                en          43   \n",
       "\n",
       "                                production_companies  \\\n",
       "0  [{\"name\": \"Ingenious Film Partners\", \"id\": 289...   \n",
       "1  [{\"name\": \"Walt Disney Pictures\", \"id\": 2}, {\"...   \n",
       "2  [{\"name\": \"Columbia Pictures\", \"id\": 5}, {\"nam...   \n",
       "3  [{\"name\": \"Legendary Pictures\", \"id\": 923}, {\"...   \n",
       "4        [{\"name\": \"Walt Disney Pictures\", \"id\": 2}]   \n",
       "\n",
       "                                production_countries release_date     revenue  \\\n",
       "0  [{\"iso_3166_1\": \"US\", \"name\": \"United States o...         2009  2787965087   \n",
       "1  [{\"iso_3166_1\": \"US\", \"name\": \"United States o...         2007   961000000   \n",
       "2  [{\"iso_3166_1\": \"GB\", \"name\": \"United Kingdom\"...         2015   880674609   \n",
       "3  [{\"iso_3166_1\": \"US\", \"name\": \"United States o...         2012  1084939099   \n",
       "4  [{\"iso_3166_1\": \"US\", \"name\": \"United States o...         2012   284139100   \n",
       "\n",
       "   runtime                                   spoken_languages  vote_average  \\\n",
       "0    162.0  [{\"iso_639_1\": \"en\", \"name\": \"English\"}, {\"iso...           7.2   \n",
       "1    169.0           [{\"iso_639_1\": \"en\", \"name\": \"English\"}]           6.9   \n",
       "2    148.0  [{\"iso_639_1\": \"fr\", \"name\": \"Fran\\u00e7ais\"},...           6.3   \n",
       "3    165.0           [{\"iso_639_1\": \"en\", \"name\": \"English\"}]           7.6   \n",
       "4    132.0           [{\"iso_639_1\": \"en\", \"name\": \"English\"}]           6.1   \n",
       "\n",
       "   vote_count  \n",
       "0       11800  \n",
       "1        4500  \n",
       "2        4466  \n",
       "3        9106  \n",
       "4        2124  "
      ]
     },
     "execution_count": 17,
     "metadata": {},
     "output_type": "execute_result"
    }
   ],
   "source": [
    "df.head()"
   ]
  },
  {
   "cell_type": "markdown",
   "metadata": {},
   "source": [
    "## Keywords Splitting"
   ]
  },
  {
   "cell_type": "code",
   "execution_count": 18,
   "metadata": {},
   "outputs": [
    {
     "data": {
      "text/plain": [
       "0    [{\"id\": 1463, \"name\": \"culture clash\"}, {\"id\":...\n",
       "1    [{\"id\": 270, \"name\": \"ocean\"}, {\"id\": 726, \"na...\n",
       "2    [{\"id\": 470, \"name\": \"spy\"}, {\"id\": 818, \"name...\n",
       "Name: keywords, dtype: object"
      ]
     },
     "execution_count": 18,
     "metadata": {},
     "output_type": "execute_result"
    }
   ],
   "source": [
    "df['keywords'].head(3)"
   ]
  },
  {
   "cell_type": "code",
   "execution_count": 19,
   "metadata": {},
   "outputs": [
    {
     "data": {
      "text/html": [
       "<div>\n",
       "<style scoped>\n",
       "    .dataframe tbody tr th:only-of-type {\n",
       "        vertical-align: middle;\n",
       "    }\n",
       "\n",
       "    .dataframe tbody tr th {\n",
       "        vertical-align: top;\n",
       "    }\n",
       "\n",
       "    .dataframe thead th {\n",
       "        text-align: right;\n",
       "    }\n",
       "</style>\n",
       "<table border=\"1\" class=\"dataframe\">\n",
       "  <thead>\n",
       "    <tr style=\"text-align: right;\">\n",
       "      <th></th>\n",
       "      <th>0</th>\n",
       "      <th>1</th>\n",
       "      <th>2</th>\n",
       "    </tr>\n",
       "  </thead>\n",
       "  <tbody>\n",
       "    <tr>\n",
       "      <th>0</th>\n",
       "      <td>[{\"id\"</td>\n",
       "      <td>1463, \"name\"</td>\n",
       "      <td>\"culture clash\"}, {\"id\": 2964, \"name\": \"futur...</td>\n",
       "    </tr>\n",
       "    <tr>\n",
       "      <th>1</th>\n",
       "      <td>[{\"id\"</td>\n",
       "      <td>270, \"name\"</td>\n",
       "      <td>\"ocean\"}, {\"id\": 726, \"name\": \"drug abuse\"}, ...</td>\n",
       "    </tr>\n",
       "    <tr>\n",
       "      <th>2</th>\n",
       "      <td>[{\"id\"</td>\n",
       "      <td>470, \"name\"</td>\n",
       "      <td>\"spy\"}, {\"id\": 818, \"name\": \"based on novel\"}...</td>\n",
       "    </tr>\n",
       "  </tbody>\n",
       "</table>\n",
       "</div>"
      ],
      "text/plain": [
       "        0              1                                                  2\n",
       "0  [{\"id\"   1463, \"name\"   \"culture clash\"}, {\"id\": 2964, \"name\": \"futur...\n",
       "1  [{\"id\"    270, \"name\"   \"ocean\"}, {\"id\": 726, \"name\": \"drug abuse\"}, ...\n",
       "2  [{\"id\"    470, \"name\"   \"spy\"}, {\"id\": 818, \"name\": \"based on novel\"}..."
      ]
     },
     "execution_count": 19,
     "metadata": {},
     "output_type": "execute_result"
    }
   ],
   "source": [
    "data_g = df['keywords'].str.split(':',2,expand=True)\n",
    "data_g.head(3)"
   ]
  },
  {
   "cell_type": "code",
   "execution_count": 20,
   "metadata": {},
   "outputs": [
    {
     "data": {
      "text/html": [
       "<div>\n",
       "<style scoped>\n",
       "    .dataframe tbody tr th:only-of-type {\n",
       "        vertical-align: middle;\n",
       "    }\n",
       "\n",
       "    .dataframe tbody tr th {\n",
       "        vertical-align: top;\n",
       "    }\n",
       "\n",
       "    .dataframe thead th {\n",
       "        text-align: right;\n",
       "    }\n",
       "</style>\n",
       "<table border=\"1\" class=\"dataframe\">\n",
       "  <thead>\n",
       "    <tr style=\"text-align: right;\">\n",
       "      <th></th>\n",
       "      <th>0</th>\n",
       "      <th>1</th>\n",
       "    </tr>\n",
       "  </thead>\n",
       "  <tbody>\n",
       "    <tr>\n",
       "      <th>0</th>\n",
       "      <td>\"culture clash\"</td>\n",
       "      <td>, {\"id\": 2964, \"name\": \"future\"}, {\"id\": 3386,...</td>\n",
       "    </tr>\n",
       "    <tr>\n",
       "      <th>1</th>\n",
       "      <td>\"ocean\"</td>\n",
       "      <td>, {\"id\": 726, \"name\": \"drug abuse\"}, {\"id\": 91...</td>\n",
       "    </tr>\n",
       "    <tr>\n",
       "      <th>2</th>\n",
       "      <td>\"spy\"</td>\n",
       "      <td>, {\"id\": 818, \"name\": \"based on novel\"}, {\"id\"...</td>\n",
       "    </tr>\n",
       "  </tbody>\n",
       "</table>\n",
       "</div>"
      ],
      "text/plain": [
       "                  0                                                  1\n",
       "0   \"culture clash\"  , {\"id\": 2964, \"name\": \"future\"}, {\"id\": 3386,...\n",
       "1           \"ocean\"  , {\"id\": 726, \"name\": \"drug abuse\"}, {\"id\": 91...\n",
       "2             \"spy\"  , {\"id\": 818, \"name\": \"based on novel\"}, {\"id\"..."
      ]
     },
     "execution_count": 20,
     "metadata": {},
     "output_type": "execute_result"
    }
   ],
   "source": [
    "data_h = data_g[2].str.split('}',1,expand=True)\n",
    "data_h.head(3)"
   ]
  },
  {
   "cell_type": "code",
   "execution_count": 21,
   "metadata": {},
   "outputs": [
    {
     "data": {
      "text/html": [
       "<div>\n",
       "<style scoped>\n",
       "    .dataframe tbody tr th:only-of-type {\n",
       "        vertical-align: middle;\n",
       "    }\n",
       "\n",
       "    .dataframe tbody tr th {\n",
       "        vertical-align: top;\n",
       "    }\n",
       "\n",
       "    .dataframe thead th {\n",
       "        text-align: right;\n",
       "    }\n",
       "</style>\n",
       "<table border=\"1\" class=\"dataframe\">\n",
       "  <thead>\n",
       "    <tr style=\"text-align: right;\">\n",
       "      <th></th>\n",
       "      <th>0</th>\n",
       "      <th>1</th>\n",
       "    </tr>\n",
       "  </thead>\n",
       "  <tbody>\n",
       "    <tr>\n",
       "      <th>0</th>\n",
       "      <td></td>\n",
       "      <td>culture clash\"</td>\n",
       "    </tr>\n",
       "    <tr>\n",
       "      <th>1</th>\n",
       "      <td></td>\n",
       "      <td>ocean\"</td>\n",
       "    </tr>\n",
       "    <tr>\n",
       "      <th>2</th>\n",
       "      <td></td>\n",
       "      <td>spy\"</td>\n",
       "    </tr>\n",
       "  </tbody>\n",
       "</table>\n",
       "</div>"
      ],
      "text/plain": [
       "   0               1\n",
       "0     culture clash\"\n",
       "1             ocean\"\n",
       "2               spy\""
      ]
     },
     "execution_count": 21,
     "metadata": {},
     "output_type": "execute_result"
    }
   ],
   "source": [
    "data_i = data_h[0].str.split('\"',1,expand=True)\n",
    "data_i.head(3)"
   ]
  },
  {
   "cell_type": "code",
   "execution_count": 22,
   "metadata": {},
   "outputs": [
    {
     "data": {
      "text/html": [
       "<div>\n",
       "<style scoped>\n",
       "    .dataframe tbody tr th:only-of-type {\n",
       "        vertical-align: middle;\n",
       "    }\n",
       "\n",
       "    .dataframe tbody tr th {\n",
       "        vertical-align: top;\n",
       "    }\n",
       "\n",
       "    .dataframe thead th {\n",
       "        text-align: right;\n",
       "    }\n",
       "</style>\n",
       "<table border=\"1\" class=\"dataframe\">\n",
       "  <thead>\n",
       "    <tr style=\"text-align: right;\">\n",
       "      <th></th>\n",
       "      <th>0</th>\n",
       "      <th>1</th>\n",
       "    </tr>\n",
       "  </thead>\n",
       "  <tbody>\n",
       "    <tr>\n",
       "      <th>0</th>\n",
       "      <td>culture clash</td>\n",
       "      <td></td>\n",
       "    </tr>\n",
       "    <tr>\n",
       "      <th>1</th>\n",
       "      <td>ocean</td>\n",
       "      <td></td>\n",
       "    </tr>\n",
       "    <tr>\n",
       "      <th>2</th>\n",
       "      <td>spy</td>\n",
       "      <td></td>\n",
       "    </tr>\n",
       "  </tbody>\n",
       "</table>\n",
       "</div>"
      ],
      "text/plain": [
       "               0 1\n",
       "0  culture clash  \n",
       "1          ocean  \n",
       "2            spy  "
      ]
     },
     "execution_count": 22,
     "metadata": {},
     "output_type": "execute_result"
    }
   ],
   "source": [
    "data_j = data_i[1].str.split('\"',0,expand=True)\n",
    "data_j.head(3)"
   ]
  },
  {
   "cell_type": "code",
   "execution_count": 23,
   "metadata": {},
   "outputs": [
    {
     "data": {
      "text/plain": [
       "based on novel             94\n",
       "independent film           87\n",
       "new york                   73\n",
       "london england             61\n",
       "prison                     60\n",
       "suicide                    48\n",
       "paris                      44\n",
       "woman director             43\n",
       "sex                        42\n",
       "father son relationship    39\n",
       "Name: 0, dtype: int64"
      ]
     },
     "execution_count": 23,
     "metadata": {},
     "output_type": "execute_result"
    }
   ],
   "source": [
    "data_j[0].value_counts().head(10)"
   ]
  },
  {
   "cell_type": "code",
   "execution_count": 24,
   "metadata": {},
   "outputs": [],
   "source": [
    "df['keywords'] = data_j[0]"
   ]
  },
  {
   "cell_type": "code",
   "execution_count": 25,
   "metadata": {},
   "outputs": [
    {
     "data": {
      "text/plain": [
       "0    based on novel\n",
       "dtype: object"
      ]
     },
     "execution_count": 25,
     "metadata": {},
     "output_type": "execute_result"
    }
   ],
   "source": [
    "df['keywords'].mode()"
   ]
  },
  {
   "cell_type": "markdown",
   "metadata": {},
   "source": [
    "## Production Companies Splitting"
   ]
  },
  {
   "cell_type": "code",
   "execution_count": 26,
   "metadata": {},
   "outputs": [
    {
     "data": {
      "text/plain": [
       "[]                                            351\n",
       "[{\"name\": \"Paramount Pictures\", \"id\": 4}]      58\n",
       "[{\"name\": \"Universal Pictures\", \"id\": 33}]     45\n",
       "Name: production_companies, dtype: int64"
      ]
     },
     "execution_count": 26,
     "metadata": {},
     "output_type": "execute_result"
    }
   ],
   "source": [
    "df['production_companies'].value_counts().head(3)"
   ]
  },
  {
   "cell_type": "code",
   "execution_count": 27,
   "metadata": {},
   "outputs": [
    {
     "data": {
      "text/html": [
       "<div>\n",
       "<style scoped>\n",
       "    .dataframe tbody tr th:only-of-type {\n",
       "        vertical-align: middle;\n",
       "    }\n",
       "\n",
       "    .dataframe tbody tr th {\n",
       "        vertical-align: top;\n",
       "    }\n",
       "\n",
       "    .dataframe thead th {\n",
       "        text-align: right;\n",
       "    }\n",
       "</style>\n",
       "<table border=\"1\" class=\"dataframe\">\n",
       "  <thead>\n",
       "    <tr style=\"text-align: right;\">\n",
       "      <th></th>\n",
       "      <th>0</th>\n",
       "      <th>1</th>\n",
       "    </tr>\n",
       "  </thead>\n",
       "  <tbody>\n",
       "    <tr>\n",
       "      <th>0</th>\n",
       "      <td>[{\"name\"</td>\n",
       "      <td>\"Ingenious Film Partners\", \"id\": 289}, {\"name...</td>\n",
       "    </tr>\n",
       "    <tr>\n",
       "      <th>1</th>\n",
       "      <td>[{\"name\"</td>\n",
       "      <td>\"Walt Disney Pictures\", \"id\": 2}, {\"name\": \"J...</td>\n",
       "    </tr>\n",
       "    <tr>\n",
       "      <th>2</th>\n",
       "      <td>[{\"name\"</td>\n",
       "      <td>\"Columbia Pictures\", \"id\": 5}, {\"name\": \"Danj...</td>\n",
       "    </tr>\n",
       "  </tbody>\n",
       "</table>\n",
       "</div>"
      ],
      "text/plain": [
       "          0                                                  1\n",
       "0  [{\"name\"   \"Ingenious Film Partners\", \"id\": 289}, {\"name...\n",
       "1  [{\"name\"   \"Walt Disney Pictures\", \"id\": 2}, {\"name\": \"J...\n",
       "2  [{\"name\"   \"Columbia Pictures\", \"id\": 5}, {\"name\": \"Danj..."
      ]
     },
     "execution_count": 27,
     "metadata": {},
     "output_type": "execute_result"
    }
   ],
   "source": [
    "data_k = df['production_companies'].str.split(':',1,expand=True)\n",
    "data_k.head(3)"
   ]
  },
  {
   "cell_type": "code",
   "execution_count": 28,
   "metadata": {},
   "outputs": [
    {
     "data": {
      "text/html": [
       "<div>\n",
       "<style scoped>\n",
       "    .dataframe tbody tr th:only-of-type {\n",
       "        vertical-align: middle;\n",
       "    }\n",
       "\n",
       "    .dataframe tbody tr th {\n",
       "        vertical-align: top;\n",
       "    }\n",
       "\n",
       "    .dataframe thead th {\n",
       "        text-align: right;\n",
       "    }\n",
       "</style>\n",
       "<table border=\"1\" class=\"dataframe\">\n",
       "  <thead>\n",
       "    <tr style=\"text-align: right;\">\n",
       "      <th></th>\n",
       "      <th>0</th>\n",
       "      <th>1</th>\n",
       "    </tr>\n",
       "  </thead>\n",
       "  <tbody>\n",
       "    <tr>\n",
       "      <th>0</th>\n",
       "      <td></td>\n",
       "      <td>Ingenious Film Partners\", \"id\": 289}, {\"name\":...</td>\n",
       "    </tr>\n",
       "    <tr>\n",
       "      <th>1</th>\n",
       "      <td></td>\n",
       "      <td>Walt Disney Pictures\", \"id\": 2}, {\"name\": \"Jer...</td>\n",
       "    </tr>\n",
       "    <tr>\n",
       "      <th>2</th>\n",
       "      <td></td>\n",
       "      <td>Columbia Pictures\", \"id\": 5}, {\"name\": \"Danjaq...</td>\n",
       "    </tr>\n",
       "  </tbody>\n",
       "</table>\n",
       "</div>"
      ],
      "text/plain": [
       "   0                                                  1\n",
       "0     Ingenious Film Partners\", \"id\": 289}, {\"name\":...\n",
       "1     Walt Disney Pictures\", \"id\": 2}, {\"name\": \"Jer...\n",
       "2     Columbia Pictures\", \"id\": 5}, {\"name\": \"Danjaq..."
      ]
     },
     "execution_count": 28,
     "metadata": {},
     "output_type": "execute_result"
    }
   ],
   "source": [
    "data_l = data_k[1].str.split('\"',1,expand=True)\n",
    "data_l.head(3)"
   ]
  },
  {
   "cell_type": "code",
   "execution_count": 29,
   "metadata": {},
   "outputs": [
    {
     "data": {
      "text/html": [
       "<div>\n",
       "<style scoped>\n",
       "    .dataframe tbody tr th:only-of-type {\n",
       "        vertical-align: middle;\n",
       "    }\n",
       "\n",
       "    .dataframe tbody tr th {\n",
       "        vertical-align: top;\n",
       "    }\n",
       "\n",
       "    .dataframe thead th {\n",
       "        text-align: right;\n",
       "    }\n",
       "</style>\n",
       "<table border=\"1\" class=\"dataframe\">\n",
       "  <thead>\n",
       "    <tr style=\"text-align: right;\">\n",
       "      <th></th>\n",
       "      <th>0</th>\n",
       "      <th>1</th>\n",
       "    </tr>\n",
       "  </thead>\n",
       "  <tbody>\n",
       "    <tr>\n",
       "      <th>0</th>\n",
       "      <td>Ingenious Film Partners</td>\n",
       "      <td>, \"id\": 289}, {\"name\": \"Twentieth Century Fox ...</td>\n",
       "    </tr>\n",
       "    <tr>\n",
       "      <th>1</th>\n",
       "      <td>Walt Disney Pictures</td>\n",
       "      <td>, \"id\": 2}, {\"name\": \"Jerry Bruckheimer Films\"...</td>\n",
       "    </tr>\n",
       "    <tr>\n",
       "      <th>2</th>\n",
       "      <td>Columbia Pictures</td>\n",
       "      <td>, \"id\": 5}, {\"name\": \"Danjaq\", \"id\": 10761}, {...</td>\n",
       "    </tr>\n",
       "  </tbody>\n",
       "</table>\n",
       "</div>"
      ],
      "text/plain": [
       "                         0                                                  1\n",
       "0  Ingenious Film Partners  , \"id\": 289}, {\"name\": \"Twentieth Century Fox ...\n",
       "1     Walt Disney Pictures  , \"id\": 2}, {\"name\": \"Jerry Bruckheimer Films\"...\n",
       "2        Columbia Pictures  , \"id\": 5}, {\"name\": \"Danjaq\", \"id\": 10761}, {..."
      ]
     },
     "execution_count": 29,
     "metadata": {},
     "output_type": "execute_result"
    }
   ],
   "source": [
    "data_m = data_l[1].str.split('\"',1,expand=True)\n",
    "data_m.head(3)"
   ]
  },
  {
   "cell_type": "code",
   "execution_count": 30,
   "metadata": {
    "scrolled": true
   },
   "outputs": [
    {
     "data": {
      "text/plain": [
       "Paramount Pictures    281\n",
       "Universal Pictures    260\n",
       "Columbia Pictures     200\n",
       "Name: 0, dtype: int64"
      ]
     },
     "execution_count": 30,
     "metadata": {},
     "output_type": "execute_result"
    }
   ],
   "source": [
    "data_m[0].value_counts().head(3)"
   ]
  },
  {
   "cell_type": "code",
   "execution_count": 31,
   "metadata": {},
   "outputs": [],
   "source": [
    "df['production_companies'] = data_m[0]"
   ]
  },
  {
   "cell_type": "markdown",
   "metadata": {},
   "source": [
    "## Production Countries Splitting"
   ]
  },
  {
   "cell_type": "code",
   "execution_count": 32,
   "metadata": {},
   "outputs": [
    {
     "data": {
      "text/plain": [
       "0    [{\"iso_3166_1\": \"US\", \"name\": \"United States o...\n",
       "1    [{\"iso_3166_1\": \"US\", \"name\": \"United States o...\n",
       "2    [{\"iso_3166_1\": \"GB\", \"name\": \"United Kingdom\"...\n",
       "Name: production_countries, dtype: object"
      ]
     },
     "execution_count": 32,
     "metadata": {},
     "output_type": "execute_result"
    }
   ],
   "source": [
    "df['production_countries'].head(3)"
   ]
  },
  {
   "cell_type": "code",
   "execution_count": 33,
   "metadata": {},
   "outputs": [
    {
     "data": {
      "text/html": [
       "<div>\n",
       "<style scoped>\n",
       "    .dataframe tbody tr th:only-of-type {\n",
       "        vertical-align: middle;\n",
       "    }\n",
       "\n",
       "    .dataframe tbody tr th {\n",
       "        vertical-align: top;\n",
       "    }\n",
       "\n",
       "    .dataframe thead th {\n",
       "        text-align: right;\n",
       "    }\n",
       "</style>\n",
       "<table border=\"1\" class=\"dataframe\">\n",
       "  <thead>\n",
       "    <tr style=\"text-align: right;\">\n",
       "      <th></th>\n",
       "      <th>0</th>\n",
       "      <th>1</th>\n",
       "      <th>2</th>\n",
       "      <th>3</th>\n",
       "    </tr>\n",
       "  </thead>\n",
       "  <tbody>\n",
       "    <tr>\n",
       "      <th>0</th>\n",
       "      <td>[{</td>\n",
       "      <td>iso_3166_1</td>\n",
       "      <td>:</td>\n",
       "      <td>US\", \"name\": \"United States of America\"}, {\"is...</td>\n",
       "    </tr>\n",
       "    <tr>\n",
       "      <th>1</th>\n",
       "      <td>[{</td>\n",
       "      <td>iso_3166_1</td>\n",
       "      <td>:</td>\n",
       "      <td>US\", \"name\": \"United States of America\"}]</td>\n",
       "    </tr>\n",
       "    <tr>\n",
       "      <th>2</th>\n",
       "      <td>[{</td>\n",
       "      <td>iso_3166_1</td>\n",
       "      <td>:</td>\n",
       "      <td>GB\", \"name\": \"United Kingdom\"}, {\"iso_3166_1\":...</td>\n",
       "    </tr>\n",
       "  </tbody>\n",
       "</table>\n",
       "</div>"
      ],
      "text/plain": [
       "    0           1   2                                                  3\n",
       "0  [{  iso_3166_1  :   US\", \"name\": \"United States of America\"}, {\"is...\n",
       "1  [{  iso_3166_1  :           US\", \"name\": \"United States of America\"}]\n",
       "2  [{  iso_3166_1  :   GB\", \"name\": \"United Kingdom\"}, {\"iso_3166_1\":..."
      ]
     },
     "execution_count": 33,
     "metadata": {},
     "output_type": "execute_result"
    }
   ],
   "source": [
    "data_n = df['production_countries'].str.split('\"',3,expand=True)\n",
    "data_n.head(3)"
   ]
  },
  {
   "cell_type": "code",
   "execution_count": 34,
   "metadata": {},
   "outputs": [
    {
     "data": {
      "text/html": [
       "<div>\n",
       "<style scoped>\n",
       "    .dataframe tbody tr th:only-of-type {\n",
       "        vertical-align: middle;\n",
       "    }\n",
       "\n",
       "    .dataframe tbody tr th {\n",
       "        vertical-align: top;\n",
       "    }\n",
       "\n",
       "    .dataframe thead th {\n",
       "        text-align: right;\n",
       "    }\n",
       "</style>\n",
       "<table border=\"1\" class=\"dataframe\">\n",
       "  <thead>\n",
       "    <tr style=\"text-align: right;\">\n",
       "      <th></th>\n",
       "      <th>0</th>\n",
       "      <th>1</th>\n",
       "    </tr>\n",
       "  </thead>\n",
       "  <tbody>\n",
       "    <tr>\n",
       "      <th>0</th>\n",
       "      <td>US</td>\n",
       "      <td>, \"name\": \"United States of America\"}, {\"iso_3...</td>\n",
       "    </tr>\n",
       "    <tr>\n",
       "      <th>1</th>\n",
       "      <td>US</td>\n",
       "      <td>, \"name\": \"United States of America\"}]</td>\n",
       "    </tr>\n",
       "    <tr>\n",
       "      <th>2</th>\n",
       "      <td>GB</td>\n",
       "      <td>, \"name\": \"United Kingdom\"}, {\"iso_3166_1\": \"U...</td>\n",
       "    </tr>\n",
       "  </tbody>\n",
       "</table>\n",
       "</div>"
      ],
      "text/plain": [
       "    0                                                  1\n",
       "0  US  , \"name\": \"United States of America\"}, {\"iso_3...\n",
       "1  US             , \"name\": \"United States of America\"}]\n",
       "2  GB  , \"name\": \"United Kingdom\"}, {\"iso_3166_1\": \"U..."
      ]
     },
     "execution_count": 34,
     "metadata": {},
     "output_type": "execute_result"
    }
   ],
   "source": [
    "data_o = data_n[3].str.split('\"',1,expand=True)\n",
    "data_o.head(3)"
   ]
  },
  {
   "cell_type": "code",
   "execution_count": 35,
   "metadata": {},
   "outputs": [],
   "source": [
    "df['production_countries'] = data_o[0]"
   ]
  },
  {
   "cell_type": "markdown",
   "metadata": {},
   "source": [
    "## Spoken Languages Splitting"
   ]
  },
  {
   "cell_type": "code",
   "execution_count": 36,
   "metadata": {},
   "outputs": [
    {
     "data": {
      "text/plain": [
       "0    [{\"iso_639_1\": \"en\", \"name\": \"English\"}, {\"iso...\n",
       "1             [{\"iso_639_1\": \"en\", \"name\": \"English\"}]\n",
       "2    [{\"iso_639_1\": \"fr\", \"name\": \"Fran\\u00e7ais\"},...\n",
       "Name: spoken_languages, dtype: object"
      ]
     },
     "execution_count": 36,
     "metadata": {},
     "output_type": "execute_result"
    }
   ],
   "source": [
    "df['spoken_languages'].head(3)"
   ]
  },
  {
   "cell_type": "code",
   "execution_count": 37,
   "metadata": {},
   "outputs": [
    {
     "data": {
      "text/html": [
       "<div>\n",
       "<style scoped>\n",
       "    .dataframe tbody tr th:only-of-type {\n",
       "        vertical-align: middle;\n",
       "    }\n",
       "\n",
       "    .dataframe tbody tr th {\n",
       "        vertical-align: top;\n",
       "    }\n",
       "\n",
       "    .dataframe thead th {\n",
       "        text-align: right;\n",
       "    }\n",
       "</style>\n",
       "<table border=\"1\" class=\"dataframe\">\n",
       "  <thead>\n",
       "    <tr style=\"text-align: right;\">\n",
       "      <th></th>\n",
       "      <th>0</th>\n",
       "      <th>1</th>\n",
       "      <th>2</th>\n",
       "      <th>3</th>\n",
       "    </tr>\n",
       "  </thead>\n",
       "  <tbody>\n",
       "    <tr>\n",
       "      <th>0</th>\n",
       "      <td>[{</td>\n",
       "      <td>iso_639_1</td>\n",
       "      <td>:</td>\n",
       "      <td>en\", \"name\": \"English\"}, {\"iso_639_1\": \"es\", \"...</td>\n",
       "    </tr>\n",
       "    <tr>\n",
       "      <th>1</th>\n",
       "      <td>[{</td>\n",
       "      <td>iso_639_1</td>\n",
       "      <td>:</td>\n",
       "      <td>en\", \"name\": \"English\"}]</td>\n",
       "    </tr>\n",
       "    <tr>\n",
       "      <th>2</th>\n",
       "      <td>[{</td>\n",
       "      <td>iso_639_1</td>\n",
       "      <td>:</td>\n",
       "      <td>fr\", \"name\": \"Fran\\u00e7ais\"}, {\"iso_639_1\": \"...</td>\n",
       "    </tr>\n",
       "  </tbody>\n",
       "</table>\n",
       "</div>"
      ],
      "text/plain": [
       "    0          1   2                                                  3\n",
       "0  [{  iso_639_1  :   en\", \"name\": \"English\"}, {\"iso_639_1\": \"es\", \"...\n",
       "1  [{  iso_639_1  :                            en\", \"name\": \"English\"}]\n",
       "2  [{  iso_639_1  :   fr\", \"name\": \"Fran\\u00e7ais\"}, {\"iso_639_1\": \"..."
      ]
     },
     "execution_count": 37,
     "metadata": {},
     "output_type": "execute_result"
    }
   ],
   "source": [
    "data_p = df['spoken_languages'].str.split('\"',3,expand=True)\n",
    "data_p.head(3)"
   ]
  },
  {
   "cell_type": "code",
   "execution_count": 38,
   "metadata": {},
   "outputs": [
    {
     "data": {
      "text/html": [
       "<div>\n",
       "<style scoped>\n",
       "    .dataframe tbody tr th:only-of-type {\n",
       "        vertical-align: middle;\n",
       "    }\n",
       "\n",
       "    .dataframe tbody tr th {\n",
       "        vertical-align: top;\n",
       "    }\n",
       "\n",
       "    .dataframe thead th {\n",
       "        text-align: right;\n",
       "    }\n",
       "</style>\n",
       "<table border=\"1\" class=\"dataframe\">\n",
       "  <thead>\n",
       "    <tr style=\"text-align: right;\">\n",
       "      <th></th>\n",
       "      <th>0</th>\n",
       "      <th>1</th>\n",
       "    </tr>\n",
       "  </thead>\n",
       "  <tbody>\n",
       "    <tr>\n",
       "      <th>0</th>\n",
       "      <td>en</td>\n",
       "      <td>, \"name\": \"English\"}, {\"iso_639_1\": \"es\", \"nam...</td>\n",
       "    </tr>\n",
       "    <tr>\n",
       "      <th>1</th>\n",
       "      <td>en</td>\n",
       "      <td>, \"name\": \"English\"}]</td>\n",
       "    </tr>\n",
       "    <tr>\n",
       "      <th>2</th>\n",
       "      <td>fr</td>\n",
       "      <td>, \"name\": \"Fran\\u00e7ais\"}, {\"iso_639_1\": \"en\"...</td>\n",
       "    </tr>\n",
       "  </tbody>\n",
       "</table>\n",
       "</div>"
      ],
      "text/plain": [
       "    0                                                  1\n",
       "0  en  , \"name\": \"English\"}, {\"iso_639_1\": \"es\", \"nam...\n",
       "1  en                              , \"name\": \"English\"}]\n",
       "2  fr  , \"name\": \"Fran\\u00e7ais\"}, {\"iso_639_1\": \"en\"..."
      ]
     },
     "execution_count": 38,
     "metadata": {},
     "output_type": "execute_result"
    }
   ],
   "source": [
    "data_q = data_p[3].str.split('\"',1,expand=True)\n",
    "data_q.head(3)"
   ]
  },
  {
   "cell_type": "code",
   "execution_count": 39,
   "metadata": {},
   "outputs": [],
   "source": [
    "df['spoken_languages'] = data_q[0]"
   ]
  },
  {
   "cell_type": "code",
   "execution_count": 40,
   "metadata": {},
   "outputs": [
    {
     "data": {
      "text/html": [
       "<div>\n",
       "<style scoped>\n",
       "    .dataframe tbody tr th:only-of-type {\n",
       "        vertical-align: middle;\n",
       "    }\n",
       "\n",
       "    .dataframe tbody tr th {\n",
       "        vertical-align: top;\n",
       "    }\n",
       "\n",
       "    .dataframe thead th {\n",
       "        text-align: right;\n",
       "    }\n",
       "</style>\n",
       "<table border=\"1\" class=\"dataframe\">\n",
       "  <thead>\n",
       "    <tr style=\"text-align: right;\">\n",
       "      <th></th>\n",
       "      <th>budget</th>\n",
       "      <th>genres</th>\n",
       "      <th>keywords</th>\n",
       "      <th>original_language</th>\n",
       "      <th>popularity</th>\n",
       "      <th>production_companies</th>\n",
       "      <th>production_countries</th>\n",
       "      <th>release_date</th>\n",
       "      <th>revenue</th>\n",
       "      <th>runtime</th>\n",
       "      <th>spoken_languages</th>\n",
       "      <th>vote_average</th>\n",
       "      <th>vote_count</th>\n",
       "    </tr>\n",
       "  </thead>\n",
       "  <tbody>\n",
       "    <tr>\n",
       "      <th>0</th>\n",
       "      <td>237000000</td>\n",
       "      <td>Action</td>\n",
       "      <td>culture clash</td>\n",
       "      <td>en</td>\n",
       "      <td>150</td>\n",
       "      <td>Ingenious Film Partners</td>\n",
       "      <td>US</td>\n",
       "      <td>2009</td>\n",
       "      <td>2787965087</td>\n",
       "      <td>162.0</td>\n",
       "      <td>en</td>\n",
       "      <td>7.2</td>\n",
       "      <td>11800</td>\n",
       "    </tr>\n",
       "    <tr>\n",
       "      <th>1</th>\n",
       "      <td>300000000</td>\n",
       "      <td>Adventure</td>\n",
       "      <td>ocean</td>\n",
       "      <td>en</td>\n",
       "      <td>139</td>\n",
       "      <td>Walt Disney Pictures</td>\n",
       "      <td>US</td>\n",
       "      <td>2007</td>\n",
       "      <td>961000000</td>\n",
       "      <td>169.0</td>\n",
       "      <td>en</td>\n",
       "      <td>6.9</td>\n",
       "      <td>4500</td>\n",
       "    </tr>\n",
       "    <tr>\n",
       "      <th>2</th>\n",
       "      <td>245000000</td>\n",
       "      <td>Action</td>\n",
       "      <td>spy</td>\n",
       "      <td>en</td>\n",
       "      <td>107</td>\n",
       "      <td>Columbia Pictures</td>\n",
       "      <td>GB</td>\n",
       "      <td>2015</td>\n",
       "      <td>880674609</td>\n",
       "      <td>148.0</td>\n",
       "      <td>fr</td>\n",
       "      <td>6.3</td>\n",
       "      <td>4466</td>\n",
       "    </tr>\n",
       "    <tr>\n",
       "      <th>3</th>\n",
       "      <td>250000000</td>\n",
       "      <td>Action</td>\n",
       "      <td>dc comics</td>\n",
       "      <td>en</td>\n",
       "      <td>112</td>\n",
       "      <td>Legendary Pictures</td>\n",
       "      <td>US</td>\n",
       "      <td>2012</td>\n",
       "      <td>1084939099</td>\n",
       "      <td>165.0</td>\n",
       "      <td>en</td>\n",
       "      <td>7.6</td>\n",
       "      <td>9106</td>\n",
       "    </tr>\n",
       "    <tr>\n",
       "      <th>4</th>\n",
       "      <td>260000000</td>\n",
       "      <td>Action</td>\n",
       "      <td>based on novel</td>\n",
       "      <td>en</td>\n",
       "      <td>43</td>\n",
       "      <td>Walt Disney Pictures</td>\n",
       "      <td>US</td>\n",
       "      <td>2012</td>\n",
       "      <td>284139100</td>\n",
       "      <td>132.0</td>\n",
       "      <td>en</td>\n",
       "      <td>6.1</td>\n",
       "      <td>2124</td>\n",
       "    </tr>\n",
       "  </tbody>\n",
       "</table>\n",
       "</div>"
      ],
      "text/plain": [
       "      budget     genres        keywords original_language  popularity  \\\n",
       "0  237000000     Action   culture clash                en         150   \n",
       "1  300000000  Adventure           ocean                en         139   \n",
       "2  245000000     Action             spy                en         107   \n",
       "3  250000000     Action       dc comics                en         112   \n",
       "4  260000000     Action  based on novel                en          43   \n",
       "\n",
       "      production_companies production_countries release_date     revenue  \\\n",
       "0  Ingenious Film Partners                   US         2009  2787965087   \n",
       "1     Walt Disney Pictures                   US         2007   961000000   \n",
       "2        Columbia Pictures                   GB         2015   880674609   \n",
       "3       Legendary Pictures                   US         2012  1084939099   \n",
       "4     Walt Disney Pictures                   US         2012   284139100   \n",
       "\n",
       "   runtime spoken_languages  vote_average  vote_count  \n",
       "0    162.0               en           7.2       11800  \n",
       "1    169.0               en           6.9        4500  \n",
       "2    148.0               fr           6.3        4466  \n",
       "3    165.0               en           7.6        9106  \n",
       "4    132.0               en           6.1        2124  "
      ]
     },
     "execution_count": 40,
     "metadata": {},
     "output_type": "execute_result"
    }
   ],
   "source": [
    "df.head()"
   ]
  },
  {
   "cell_type": "code",
   "execution_count": 41,
   "metadata": {},
   "outputs": [
    {
     "data": {
      "text/plain": [
       "budget                    0\n",
       "genres                   28\n",
       "keywords                412\n",
       "original_language         0\n",
       "popularity                0\n",
       "production_companies    351\n",
       "production_countries    174\n",
       "release_date              1\n",
       "revenue                   0\n",
       "runtime                   2\n",
       "spoken_languages         86\n",
       "vote_average              0\n",
       "vote_count                0\n",
       "dtype: int64"
      ]
     },
     "execution_count": 41,
     "metadata": {},
     "output_type": "execute_result"
    }
   ],
   "source": [
    "df.isnull().sum()"
   ]
  },
  {
   "cell_type": "code",
   "execution_count": 42,
   "metadata": {},
   "outputs": [],
   "source": [
    "df.dropna(inplace=True)\n",
    "df['runtime'] = df['runtime'].astype('int64')\n",
    "df['release_date'] = df['release_date'].astype('int64')"
   ]
  },
  {
   "cell_type": "code",
   "execution_count": 43,
   "metadata": {},
   "outputs": [
    {
     "data": {
      "text/plain": [
       "(4162, 13)"
      ]
     },
     "execution_count": 43,
     "metadata": {},
     "output_type": "execute_result"
    }
   ],
   "source": [
    "df.shape"
   ]
  },
  {
   "cell_type": "code",
   "execution_count": 44,
   "metadata": {},
   "outputs": [
    {
     "data": {
      "text/plain": [
       "0.13345825525713095"
      ]
     },
     "execution_count": 44,
     "metadata": {},
     "output_type": "execute_result"
    }
   ],
   "source": [
    "1-4162/4803"
   ]
  },
  {
   "cell_type": "markdown",
   "metadata": {},
   "source": [
    "### 13.3% data is missed,we can neglect that one"
   ]
  },
  {
   "cell_type": "code",
   "execution_count": 45,
   "metadata": {},
   "outputs": [
    {
     "data": {
      "text/html": [
       "<div>\n",
       "<style scoped>\n",
       "    .dataframe tbody tr th:only-of-type {\n",
       "        vertical-align: middle;\n",
       "    }\n",
       "\n",
       "    .dataframe tbody tr th {\n",
       "        vertical-align: top;\n",
       "    }\n",
       "\n",
       "    .dataframe thead th {\n",
       "        text-align: right;\n",
       "    }\n",
       "</style>\n",
       "<table border=\"1\" class=\"dataframe\">\n",
       "  <thead>\n",
       "    <tr style=\"text-align: right;\">\n",
       "      <th></th>\n",
       "      <th>budget</th>\n",
       "      <th>genres</th>\n",
       "      <th>keywords</th>\n",
       "      <th>original_language</th>\n",
       "      <th>popularity</th>\n",
       "      <th>production_companies</th>\n",
       "      <th>production_countries</th>\n",
       "      <th>release_date</th>\n",
       "      <th>revenue</th>\n",
       "      <th>runtime</th>\n",
       "      <th>spoken_languages</th>\n",
       "      <th>vote_average</th>\n",
       "      <th>vote_count</th>\n",
       "    </tr>\n",
       "  </thead>\n",
       "  <tbody>\n",
       "    <tr>\n",
       "      <th>0</th>\n",
       "      <td>237000000</td>\n",
       "      <td>Action</td>\n",
       "      <td>culture clash</td>\n",
       "      <td>en</td>\n",
       "      <td>150</td>\n",
       "      <td>Ingenious Film Partners</td>\n",
       "      <td>US</td>\n",
       "      <td>2009</td>\n",
       "      <td>2787965087</td>\n",
       "      <td>162</td>\n",
       "      <td>en</td>\n",
       "      <td>7.2</td>\n",
       "      <td>11800</td>\n",
       "    </tr>\n",
       "    <tr>\n",
       "      <th>1</th>\n",
       "      <td>300000000</td>\n",
       "      <td>Adventure</td>\n",
       "      <td>ocean</td>\n",
       "      <td>en</td>\n",
       "      <td>139</td>\n",
       "      <td>Walt Disney Pictures</td>\n",
       "      <td>US</td>\n",
       "      <td>2007</td>\n",
       "      <td>961000000</td>\n",
       "      <td>169</td>\n",
       "      <td>en</td>\n",
       "      <td>6.9</td>\n",
       "      <td>4500</td>\n",
       "    </tr>\n",
       "    <tr>\n",
       "      <th>2</th>\n",
       "      <td>245000000</td>\n",
       "      <td>Action</td>\n",
       "      <td>spy</td>\n",
       "      <td>en</td>\n",
       "      <td>107</td>\n",
       "      <td>Columbia Pictures</td>\n",
       "      <td>GB</td>\n",
       "      <td>2015</td>\n",
       "      <td>880674609</td>\n",
       "      <td>148</td>\n",
       "      <td>fr</td>\n",
       "      <td>6.3</td>\n",
       "      <td>4466</td>\n",
       "    </tr>\n",
       "    <tr>\n",
       "      <th>3</th>\n",
       "      <td>250000000</td>\n",
       "      <td>Action</td>\n",
       "      <td>dc comics</td>\n",
       "      <td>en</td>\n",
       "      <td>112</td>\n",
       "      <td>Legendary Pictures</td>\n",
       "      <td>US</td>\n",
       "      <td>2012</td>\n",
       "      <td>1084939099</td>\n",
       "      <td>165</td>\n",
       "      <td>en</td>\n",
       "      <td>7.6</td>\n",
       "      <td>9106</td>\n",
       "    </tr>\n",
       "    <tr>\n",
       "      <th>4</th>\n",
       "      <td>260000000</td>\n",
       "      <td>Action</td>\n",
       "      <td>based on novel</td>\n",
       "      <td>en</td>\n",
       "      <td>43</td>\n",
       "      <td>Walt Disney Pictures</td>\n",
       "      <td>US</td>\n",
       "      <td>2012</td>\n",
       "      <td>284139100</td>\n",
       "      <td>132</td>\n",
       "      <td>en</td>\n",
       "      <td>6.1</td>\n",
       "      <td>2124</td>\n",
       "    </tr>\n",
       "  </tbody>\n",
       "</table>\n",
       "</div>"
      ],
      "text/plain": [
       "      budget     genres        keywords original_language  popularity  \\\n",
       "0  237000000     Action   culture clash                en         150   \n",
       "1  300000000  Adventure           ocean                en         139   \n",
       "2  245000000     Action             spy                en         107   \n",
       "3  250000000     Action       dc comics                en         112   \n",
       "4  260000000     Action  based on novel                en          43   \n",
       "\n",
       "      production_companies production_countries  release_date     revenue  \\\n",
       "0  Ingenious Film Partners                   US          2009  2787965087   \n",
       "1     Walt Disney Pictures                   US          2007   961000000   \n",
       "2        Columbia Pictures                   GB          2015   880674609   \n",
       "3       Legendary Pictures                   US          2012  1084939099   \n",
       "4     Walt Disney Pictures                   US          2012   284139100   \n",
       "\n",
       "   runtime spoken_languages  vote_average  vote_count  \n",
       "0      162               en           7.2       11800  \n",
       "1      169               en           6.9        4500  \n",
       "2      148               fr           6.3        4466  \n",
       "3      165               en           7.6        9106  \n",
       "4      132               en           6.1        2124  "
      ]
     },
     "execution_count": 45,
     "metadata": {},
     "output_type": "execute_result"
    }
   ],
   "source": [
    "df.head()"
   ]
  },
  {
   "cell_type": "markdown",
   "metadata": {},
   "source": [
    "# Now our Data is Cleaned"
   ]
  },
  {
   "cell_type": "code",
   "execution_count": 46,
   "metadata": {},
   "outputs": [
    {
     "name": "stdout",
     "output_type": "stream",
     "text": [
      "---- genres ---\n",
      "Drama     1019\n",
      "Comedy     883\n",
      "Action     685\n",
      "Name: genres, dtype: int64\n",
      "---- keywords ---\n",
      "based on novel    93\n",
      "new york          72\n",
      "london england    61\n",
      "Name: keywords, dtype: int64\n",
      "---- original_language ---\n",
      "en    3927\n",
      "fr      56\n",
      "es      27\n",
      "Name: original_language, dtype: int64\n",
      "---- production_companies ---\n",
      "Paramount Pictures    274\n",
      "Universal Pictures    252\n",
      "Columbia Pictures     197\n",
      "Name: production_companies, dtype: int64\n",
      "---- production_countries ---\n",
      "US    2796\n",
      "GB     342\n",
      "CA     196\n",
      "Name: production_countries, dtype: int64\n",
      "---- spoken_languages ---\n",
      "en    3628\n",
      "fr      96\n",
      "es      74\n",
      "Name: spoken_languages, dtype: int64\n"
     ]
    }
   ],
   "source": [
    "for i in df.select_dtypes('object').columns:\n",
    "    print( \"---- %s ---\" % i)\n",
    "    print(df[i].value_counts().head(3))"
   ]
  },
  {
   "cell_type": "markdown",
   "metadata": {},
   "source": [
    "## Outliers:"
   ]
  },
  {
   "cell_type": "code",
   "execution_count": 47,
   "metadata": {},
   "outputs": [
    {
     "data": {
      "text/plain": [
       "265"
      ]
     },
     "execution_count": 47,
     "metadata": {},
     "output_type": "execute_result"
    }
   ],
   "source": [
    "q1_b = df['budget'].quantile(q= 0.25)\n",
    "q3_b = df['budget'].quantile(q= 0.75)\n",
    "iqr_b = q3_b-q1_b\n",
    "budget_o = df[(df['budget']<(q1_b-1.5*iqr_b)) | (df['budget']>(q3_b+1.5*iqr_b))].shape[0]\n",
    "budget_o"
   ]
  },
  {
   "cell_type": "code",
   "execution_count": 48,
   "metadata": {},
   "outputs": [
    {
     "data": {
      "text/plain": [
       "131"
      ]
     },
     "execution_count": 48,
     "metadata": {},
     "output_type": "execute_result"
    }
   ],
   "source": [
    "q1_r = df['runtime'].quantile(q= 0.25)\n",
    "q3_r = df['runtime'].quantile(q= 0.75)\n",
    "iqr_r = q3_r-q1_r\n",
    "runtime_o = df[(df['runtime']<(q1_r-1.5*iqr_r)) | (df['runtime']>(q3_r+1.5*iqr_r))].shape[0]\n",
    "runtime_o"
   ]
  },
  {
   "cell_type": "code",
   "execution_count": 49,
   "metadata": {},
   "outputs": [
    {
     "data": {
      "text/plain": [
       "74"
      ]
     },
     "execution_count": 49,
     "metadata": {},
     "output_type": "execute_result"
    }
   ],
   "source": [
    "q1_va = df['vote_average'].quantile(q= 0.25)\n",
    "q3_va = df['vote_average'].quantile(q= 0.75)\n",
    "iqr_va = q3_va-q1_va\n",
    "va_o = df[(df['vote_average']<(q1_va-1.5*iqr_va)) | (df['vote_average']>(q3_va+1.5*iqr_va))].shape[0]\n",
    "va_o"
   ]
  },
  {
   "cell_type": "code",
   "execution_count": 50,
   "metadata": {},
   "outputs": [
    {
     "data": {
      "text/plain": [
       "423"
      ]
     },
     "execution_count": 50,
     "metadata": {},
     "output_type": "execute_result"
    }
   ],
   "source": [
    "q1_vc = df['vote_count'].quantile(q= 0.25)\n",
    "q3_vc = df['vote_count'].quantile(q= 0.75)\n",
    "iqr_vc = q3_vc-q1_vc\n",
    "vc_o = df[(df['vote_count']<(q1_vc-1.5*iqr_vc)) | (df['vote_count']>(q3_vc+1.5*iqr_vc))].shape[0]\n",
    "vc_o"
   ]
  },
  {
   "cell_type": "code",
   "execution_count": 51,
   "metadata": {},
   "outputs": [
    {
     "data": {
      "text/html": [
       "<div>\n",
       "<style scoped>\n",
       "    .dataframe tbody tr th:only-of-type {\n",
       "        vertical-align: middle;\n",
       "    }\n",
       "\n",
       "    .dataframe tbody tr th {\n",
       "        vertical-align: top;\n",
       "    }\n",
       "\n",
       "    .dataframe thead th {\n",
       "        text-align: right;\n",
       "    }\n",
       "</style>\n",
       "<table border=\"1\" class=\"dataframe\">\n",
       "  <thead>\n",
       "    <tr style=\"text-align: right;\">\n",
       "      <th></th>\n",
       "      <th>Features</th>\n",
       "      <th>No_of_Outliers</th>\n",
       "    </tr>\n",
       "  </thead>\n",
       "  <tbody>\n",
       "    <tr>\n",
       "      <th>0</th>\n",
       "      <td>Budget</td>\n",
       "      <td>265</td>\n",
       "    </tr>\n",
       "    <tr>\n",
       "      <th>1</th>\n",
       "      <td>Runtime</td>\n",
       "      <td>131</td>\n",
       "    </tr>\n",
       "    <tr>\n",
       "      <th>2</th>\n",
       "      <td>Vote_average</td>\n",
       "      <td>74</td>\n",
       "    </tr>\n",
       "    <tr>\n",
       "      <th>3</th>\n",
       "      <td>Vote_count</td>\n",
       "      <td>423</td>\n",
       "    </tr>\n",
       "  </tbody>\n",
       "</table>\n",
       "</div>"
      ],
      "text/plain": [
       "       Features  No_of_Outliers\n",
       "0        Budget             265\n",
       "1       Runtime             131\n",
       "2  Vote_average              74\n",
       "3    Vote_count             423"
      ]
     },
     "execution_count": 51,
     "metadata": {},
     "output_type": "execute_result"
    }
   ],
   "source": [
    "Features = ['Budget','Runtime','Vote_average','Vote_count']\n",
    "No_of_outliers = [budget_o,runtime_o,va_o,vc_o]\n",
    "Outliers  = pd.DataFrame({'Features':Features,'No_of_Outliers':No_of_outliers})\n",
    "Outliers"
   ]
  },
  {
   "cell_type": "markdown",
   "metadata": {},
   "source": [
    "## Outliers Treatment - Sqrt Transformation:"
   ]
  },
  {
   "cell_type": "code",
   "execution_count": 52,
   "metadata": {},
   "outputs": [],
   "source": [
    "df1 = df.copy()"
   ]
  },
  {
   "cell_type": "code",
   "execution_count": 53,
   "metadata": {},
   "outputs": [],
   "source": [
    "from sklearn.preprocessing import FunctionTransformer\n",
    "ft_sqrt = FunctionTransformer(np.sqrt)\n",
    "ft_log = FunctionTransformer(np.log1p)"
   ]
  },
  {
   "cell_type": "code",
   "execution_count": 54,
   "metadata": {},
   "outputs": [
    {
     "data": {
      "text/plain": [
       "<matplotlib.axes._subplots.AxesSubplot at 0x2a40b4e710>"
      ]
     },
     "execution_count": 54,
     "metadata": {},
     "output_type": "execute_result"
    },
    {
     "data": {
      "image/png": "[encoded data removed]",
      "text/plain": [
       "<Figure size 432x288 with 1 Axes>"
      ]
     },
     "metadata": {
      "needs_background": "light"
     },
     "output_type": "display_data"
    }
   ],
   "source": [
    "sns.distplot(df1['budget'])"
   ]
  },
  {
   "cell_type": "code",
   "execution_count": 55,
   "metadata": {},
   "outputs": [],
   "source": [
    "df1['budget'] = ft_sqrt.fit_transform(df1[['budget']])"
   ]
  },
  {
   "cell_type": "code",
   "execution_count": 56,
   "metadata": {},
   "outputs": [
    {
     "data": {
      "text/plain": [
       "<matplotlib.axes._subplots.AxesSubplot at 0x2a40ee4b00>"
      ]
     },
     "execution_count": 56,
     "metadata": {},
     "output_type": "execute_result"
    },
    {
     "data": {
      "image/png": "[encoded data removed]",
      "text/plain": [
       "<Figure size 432x288 with 1 Axes>"
      ]
     },
     "metadata": {
      "needs_background": "light"
     },
     "output_type": "display_data"
    }
   ],
   "source": [
    "sns.distplot(df1['budget'])"
   ]
  },
  {
   "cell_type": "code",
   "execution_count": 57,
   "metadata": {},
   "outputs": [
    {
     "data": {
      "text/plain": [
       "<matplotlib.axes._subplots.AxesSubplot at 0x2a40fbf748>"
      ]
     },
     "execution_count": 57,
     "metadata": {},
     "output_type": "execute_result"
    },
    {
     "data": {
      "image/png": "[encoded data removed]",
      "text/plain": [
       "<Figure size 432x288 with 1 Axes>"
      ]
     },
     "metadata": {
      "needs_background": "light"
     },
     "output_type": "display_data"
    }
   ],
   "source": [
    "sns.distplot(df1['runtime'])"
   ]
  },
  {
   "cell_type": "code",
   "execution_count": 58,
   "metadata": {},
   "outputs": [],
   "source": [
    "df1['runtime'] = ft_sqrt.fit_transform(df1[['runtime']])"
   ]
  },
  {
   "cell_type": "code",
   "execution_count": 59,
   "metadata": {},
   "outputs": [
    {
     "data": {
      "text/plain": [
       "<matplotlib.axes._subplots.AxesSubplot at 0x2a410b3048>"
      ]
     },
     "execution_count": 59,
     "metadata": {},
     "output_type": "execute_result"
    },
    {
     "data": {
      "image/png": "[encoded data removed]",
      "text/plain": [
       "<Figure size 432x288 with 1 Axes>"
      ]
     },
     "metadata": {
      "needs_background": "light"
     },
     "output_type": "display_data"
    }
   ],
   "source": [
    "sns.distplot(df1['runtime'])"
   ]
  },
  {
   "cell_type": "code",
   "execution_count": 60,
   "metadata": {},
   "outputs": [
    {
     "data": {
      "text/plain": [
       "<matplotlib.axes._subplots.AxesSubplot at 0x2a41193438>"
      ]
     },
     "execution_count": 60,
     "metadata": {},
     "output_type": "execute_result"
    },
    {
     "data": {
      "image/png": "[encoded data removed]",
      "text/plain": [
       "<Figure size 432x288 with 1 Axes>"
      ]
     },
     "metadata": {
      "needs_background": "light"
     },
     "output_type": "display_data"
    }
   ],
   "source": [
    "sns.distplot(df1['vote_average'])"
   ]
  },
  {
   "cell_type": "code",
   "execution_count": 61,
   "metadata": {},
   "outputs": [],
   "source": [
    "df1['vote_average'] = ft_sqrt.fit_transform(df1[['vote_average']])"
   ]
  },
  {
   "cell_type": "code",
   "execution_count": 62,
   "metadata": {},
   "outputs": [
    {
     "data": {
      "text/plain": [
       "<matplotlib.axes._subplots.AxesSubplot at 0x2a411bfbe0>"
      ]
     },
     "execution_count": 62,
     "metadata": {},
     "output_type": "execute_result"
    },
    {
     "data": {
      "image/png": "[encoded data removed]",
      "text/plain": [
       "<Figure size 432x288 with 1 Axes>"
      ]
     },
     "metadata": {
      "needs_background": "light"
     },
     "output_type": "display_data"
    }
   ],
   "source": [
    "sns.distplot(df1['vote_average'])"
   ]
  },
  {
   "cell_type": "code",
   "execution_count": 63,
   "metadata": {},
   "outputs": [
    {
     "data": {
      "text/plain": [
       "<matplotlib.axes._subplots.AxesSubplot at 0x2a4136f390>"
      ]
     },
     "execution_count": 63,
     "metadata": {},
     "output_type": "execute_result"
    },
    {
     "data": {
      "image/png": "[encoded data removed]",
      "text/plain": [
       "<Figure size 432x288 with 1 Axes>"
      ]
     },
     "metadata": {
      "needs_background": "light"
     },
     "output_type": "display_data"
    }
   ],
   "source": [
    "sns.distplot(df1['vote_count'])"
   ]
  },
  {
   "cell_type": "code",
   "execution_count": 64,
   "metadata": {},
   "outputs": [],
   "source": [
    "df1['vote_count'] = ft_sqrt.fit_transform(df1[['vote_count']])"
   ]
  },
  {
   "cell_type": "code",
   "execution_count": 65,
   "metadata": {},
   "outputs": [
    {
     "data": {
      "text/plain": [
       "<matplotlib.axes._subplots.AxesSubplot at 0x2a42433048>"
      ]
     },
     "execution_count": 65,
     "metadata": {},
     "output_type": "execute_result"
    },
    {
     "data": {
      "image/png": "[encoded data removed]",
      "text/plain": [
       "<Figure size 432x288 with 1 Axes>"
      ]
     },
     "metadata": {
      "needs_background": "light"
     },
     "output_type": "display_data"
    }
   ],
   "source": [
    "sns.distplot(df1['vote_count'])"
   ]
  },
  {
   "cell_type": "code",
   "execution_count": 66,
   "metadata": {},
   "outputs": [
    {
     "data": {
      "text/plain": [
       "47"
      ]
     },
     "execution_count": 66,
     "metadata": {},
     "output_type": "execute_result"
    }
   ],
   "source": [
    "q1_b_s = df1['budget'].quantile(q= 0.25)\n",
    "q3_b_s = df1['budget'].quantile(q= 0.75)\n",
    "iqr_b_s = q3_b_s-q1_b_s\n",
    "budget_o_s = df1[(df1['budget']<(q1_b_s-1.5*iqr_b_s)) | (df1['budget']>(q3_b_s+1.5*iqr_b_s))].shape[0]\n",
    "budget_o_s"
   ]
  },
  {
   "cell_type": "code",
   "execution_count": 67,
   "metadata": {},
   "outputs": [
    {
     "data": {
      "text/plain": [
       "108"
      ]
     },
     "execution_count": 67,
     "metadata": {},
     "output_type": "execute_result"
    }
   ],
   "source": [
    "q1_r_s = df1['runtime'].quantile(q= 0.25)\n",
    "q3_r_s = df1['runtime'].quantile(q= 0.75)\n",
    "iqr_r_s = q3_r_s-q1_r_s\n",
    "runtime_o_s = df1[(df1['runtime']<(q1_r_s-1.5*iqr_r_s)) | (df1['runtime']>(q3_r_s+1.5*iqr_r_s))].shape[0]\n",
    "runtime_o_s"
   ]
  },
  {
   "cell_type": "code",
   "execution_count": 68,
   "metadata": {},
   "outputs": [
    {
     "data": {
      "text/plain": [
       "103"
      ]
     },
     "execution_count": 68,
     "metadata": {},
     "output_type": "execute_result"
    }
   ],
   "source": [
    "q1_va_s = df1['vote_average'].quantile(q= 0.25)\n",
    "q3_va_s = df1['vote_average'].quantile(q= 0.75)\n",
    "iqr_va_s = q3_va_s-q1_va_s\n",
    "va_o_s = df1[(df1['vote_average']<(q1_va_s-1.5*iqr_va_s)) | (df1['vote_average']>(q3_va_s+1.5*iqr_va_s))].shape[0]\n",
    "va_o_s"
   ]
  },
  {
   "cell_type": "code",
   "execution_count": 69,
   "metadata": {},
   "outputs": [
    {
     "data": {
      "text/plain": [
       "190"
      ]
     },
     "execution_count": 69,
     "metadata": {},
     "output_type": "execute_result"
    }
   ],
   "source": [
    "q1_vc_s = df1['vote_count'].quantile(q= 0.25)\n",
    "q3_vc_s = df1['vote_count'].quantile(q= 0.75)\n",
    "iqr_vc_s = q3_vc_s-q1_vc_s\n",
    "vc_o_s = df1[(df1['vote_count']<(q1_vc_s-1.5*iqr_vc_s)) | (df1['vote_count']>(q3_vc_s+1.5*iqr_vc_s))].shape[0]\n",
    "vc_o_s"
   ]
  },
  {
   "cell_type": "code",
   "execution_count": 70,
   "metadata": {},
   "outputs": [
    {
     "data": {
      "text/html": [
       "<div>\n",
       "<style scoped>\n",
       "    .dataframe tbody tr th:only-of-type {\n",
       "        vertical-align: middle;\n",
       "    }\n",
       "\n",
       "    .dataframe tbody tr th {\n",
       "        vertical-align: top;\n",
       "    }\n",
       "\n",
       "    .dataframe thead th {\n",
       "        text-align: right;\n",
       "    }\n",
       "</style>\n",
       "<table border=\"1\" class=\"dataframe\">\n",
       "  <thead>\n",
       "    <tr style=\"text-align: right;\">\n",
       "      <th></th>\n",
       "      <th>Features</th>\n",
       "      <th>No_of_Outliers</th>\n",
       "      <th>No_of_outlier_after_sqrt_transformation</th>\n",
       "    </tr>\n",
       "  </thead>\n",
       "  <tbody>\n",
       "    <tr>\n",
       "      <th>0</th>\n",
       "      <td>Budget</td>\n",
       "      <td>265</td>\n",
       "      <td>47</td>\n",
       "    </tr>\n",
       "    <tr>\n",
       "      <th>1</th>\n",
       "      <td>Runtime</td>\n",
       "      <td>131</td>\n",
       "      <td>108</td>\n",
       "    </tr>\n",
       "    <tr>\n",
       "      <th>2</th>\n",
       "      <td>Vote_average</td>\n",
       "      <td>74</td>\n",
       "      <td>103</td>\n",
       "    </tr>\n",
       "    <tr>\n",
       "      <th>3</th>\n",
       "      <td>Vote_count</td>\n",
       "      <td>423</td>\n",
       "      <td>190</td>\n",
       "    </tr>\n",
       "  </tbody>\n",
       "</table>\n",
       "</div>"
      ],
      "text/plain": [
       "       Features  No_of_Outliers  No_of_outlier_after_sqrt_transformation\n",
       "0        Budget             265                                       47\n",
       "1       Runtime             131                                      108\n",
       "2  Vote_average              74                                      103\n",
       "3    Vote_count             423                                      190"
      ]
     },
     "execution_count": 70,
     "metadata": {},
     "output_type": "execute_result"
    }
   ],
   "source": [
    "Features = ['Budget','Runtime','Vote_average','Vote_count']\n",
    "No_of_outliers = [budget_o,runtime_o,va_o,vc_o]\n",
    "No_of_outlier_after_sqrt_transformation = [budget_o_s,runtime_o_s,va_o_s,vc_o_s]\n",
    "Outliers_after_sqrt  = pd.DataFrame({'Features':Features,'No_of_Outliers':No_of_outliers,\n",
    "                          'No_of_outlier_after_sqrt_transformation':No_of_outlier_after_sqrt_transformation})\n",
    "Outliers_after_sqrt"
   ]
  },
  {
   "cell_type": "markdown",
   "metadata": {},
   "source": [
    "## Outliers Treatment - Log Transformation"
   ]
  },
  {
   "cell_type": "code",
   "execution_count": 71,
   "metadata": {},
   "outputs": [],
   "source": [
    "df2 = df.copy()"
   ]
  },
  {
   "cell_type": "code",
   "execution_count": 72,
   "metadata": {},
   "outputs": [
    {
     "data": {
      "text/plain": [
       "<matplotlib.axes._subplots.AxesSubplot at 0x2a3f3e30b8>"
      ]
     },
     "execution_count": 72,
     "metadata": {},
     "output_type": "execute_result"
    },
    {
     "data": {
      "image/png": "[encoded data removed]",
      "text/plain": [
       "<Figure size 432x288 with 1 Axes>"
      ]
     },
     "metadata": {
      "needs_background": "light"
     },
     "output_type": "display_data"
    }
   ],
   "source": [
    "sns.distplot(df2['budget'])"
   ]
  },
  {
   "cell_type": "code",
   "execution_count": 73,
   "metadata": {},
   "outputs": [],
   "source": [
    "df2['budget'] = ft_log.fit_transform(df2[['budget']])"
   ]
  },
  {
   "cell_type": "code",
   "execution_count": 74,
   "metadata": {},
   "outputs": [
    {
     "data": {
      "text/plain": [
       "<matplotlib.axes._subplots.AxesSubplot at 0x2a425f01d0>"
      ]
     },
     "execution_count": 74,
     "metadata": {},
     "output_type": "execute_result"
    },
    {
     "data": {
      "image/png": "[encoded data removed]",
      "text/plain": [
       "<Figure size 432x288 with 1 Axes>"
      ]
     },
     "metadata": {
      "needs_background": "light"
     },
     "output_type": "display_data"
    }
   ],
   "source": [
    "sns.distplot(df2['budget'])"
   ]
  },
  {
   "cell_type": "code",
   "execution_count": 75,
   "metadata": {},
   "outputs": [
    {
     "data": {
      "text/plain": [
       "<matplotlib.axes._subplots.AxesSubplot at 0x2a426d1630>"
      ]
     },
     "execution_count": 75,
     "metadata": {},
     "output_type": "execute_result"
    },
    {
     "data": {
      "image/png": "[encoded data removed]",
      "text/plain": [
       "<Figure size 432x288 with 1 Axes>"
      ]
     },
     "metadata": {
      "needs_background": "light"
     },
     "output_type": "display_data"
    }
   ],
   "source": [
    "sns.distplot(df2['runtime'])"
   ]
  },
  {
   "cell_type": "code",
   "execution_count": 76,
   "metadata": {},
   "outputs": [],
   "source": [
    "df2['runtime'] = ft_log.fit_transform(df2[['runtime']])"
   ]
  },
  {
   "cell_type": "code",
   "execution_count": 77,
   "metadata": {},
   "outputs": [
    {
     "data": {
      "text/plain": [
       "<matplotlib.axes._subplots.AxesSubplot at 0x2a4277f4e0>"
      ]
     },
     "execution_count": 77,
     "metadata": {},
     "output_type": "execute_result"
    },
    {
     "data": {
      "image/png": "[encoded data removed]",
      "text/plain": [
       "<Figure size 432x288 with 1 Axes>"
      ]
     },
     "metadata": {
      "needs_background": "light"
     },
     "output_type": "display_data"
    }
   ],
   "source": [
    "sns.distplot(df2['runtime'])"
   ]
  },
  {
   "cell_type": "code",
   "execution_count": 78,
   "metadata": {},
   "outputs": [
    {
     "data": {
      "text/plain": [
       "<matplotlib.axes._subplots.AxesSubplot at 0x2a4288bf60>"
      ]
     },
     "execution_count": 78,
     "metadata": {},
     "output_type": "execute_result"
    },
    {
     "data": {
      "image/png": "[encoded data removed]",
      "text/plain": [
       "<Figure size 432x288 with 1 Axes>"
      ]
     },
     "metadata": {
      "needs_background": "light"
     },
     "output_type": "display_data"
    }
   ],
   "source": [
    "sns.distplot(df2['vote_average'])"
   ]
  },
  {
   "cell_type": "code",
   "execution_count": 79,
   "metadata": {},
   "outputs": [],
   "source": [
    "df2['vote_average'] = ft_log.fit_transform(df2[['vote_average']])"
   ]
  },
  {
   "cell_type": "code",
   "execution_count": 80,
   "metadata": {},
   "outputs": [
    {
     "data": {
      "text/plain": [
       "<matplotlib.axes._subplots.AxesSubplot at 0x2a429322b0>"
      ]
     },
     "execution_count": 80,
     "metadata": {},
     "output_type": "execute_result"
    },
    {
     "data": {
      "image/png": "[encoded data removed]",
      "text/plain": [
       "<Figure size 432x288 with 1 Axes>"
      ]
     },
     "metadata": {
      "needs_background": "light"
     },
     "output_type": "display_data"
    }
   ],
   "source": [
    "sns.distplot(df2['vote_average'])"
   ]
  },
  {
   "cell_type": "code",
   "execution_count": 81,
   "metadata": {},
   "outputs": [
    {
     "data": {
      "text/plain": [
       "<matplotlib.axes._subplots.AxesSubplot at 0x2a40b21a90>"
      ]
     },
     "execution_count": 81,
     "metadata": {},
     "output_type": "execute_result"
    },
    {
     "data": {
      "image/png": "[encoded data removed]",
      "text/plain": [
       "<Figure size 432x288 with 1 Axes>"
      ]
     },
     "metadata": {
      "needs_background": "light"
     },
     "output_type": "display_data"
    }
   ],
   "source": [
    "sns.distplot(df2['vote_count'])"
   ]
  },
  {
   "cell_type": "code",
   "execution_count": 82,
   "metadata": {},
   "outputs": [],
   "source": [
    "df2['vote_count'] = ft_log.fit_transform(df2[['vote_count']])"
   ]
  },
  {
   "cell_type": "code",
   "execution_count": 83,
   "metadata": {},
   "outputs": [
    {
     "data": {
      "text/plain": [
       "<matplotlib.axes._subplots.AxesSubplot at 0x2a42b6c978>"
      ]
     },
     "execution_count": 83,
     "metadata": {},
     "output_type": "execute_result"
    },
    {
     "data": {
      "image/png": "[encoded data removed]",
      "text/plain": [
       "<Figure size 432x288 with 1 Axes>"
      ]
     },
     "metadata": {
      "needs_background": "light"
     },
     "output_type": "display_data"
    }
   ],
   "source": [
    "sns.distplot(df2['vote_count'])"
   ]
  },
  {
   "cell_type": "code",
   "execution_count": 84,
   "metadata": {},
   "outputs": [
    {
     "data": {
      "text/plain": [
       "670"
      ]
     },
     "execution_count": 84,
     "metadata": {},
     "output_type": "execute_result"
    }
   ],
   "source": [
    "q1_b_l = df2['budget'].quantile(q= 0.25)\n",
    "q3_b_l = df2['budget'].quantile(q= 0.75)\n",
    "iqr_b_l = q3_b_l-q1_b_l\n",
    "budget_o_l = df2[(df2['budget']<(q1_b_l-1.5*iqr_b_l)) | (df2['budget']>(q3_b_l+1.5*iqr_b_l))].shape[0]\n",
    "budget_o_l"
   ]
  },
  {
   "cell_type": "code",
   "execution_count": 85,
   "metadata": {},
   "outputs": [
    {
     "data": {
      "text/plain": [
       "86"
      ]
     },
     "execution_count": 85,
     "metadata": {},
     "output_type": "execute_result"
    }
   ],
   "source": [
    "q1_r_l = df2['runtime'].quantile(q= 0.25)\n",
    "q3_r_l = df2['runtime'].quantile(q= 0.75)\n",
    "iqr_r_l = q3_r_l-q1_r_l\n",
    "runtime_o_l = df2[(df2['runtime']<(q1_r_l-1.5*iqr_r_l)) | (df2['runtime']>(q3_r_l+1.5*iqr_r_l))].shape[0]\n",
    "runtime_o_l"
   ]
  },
  {
   "cell_type": "code",
   "execution_count": 86,
   "metadata": {},
   "outputs": [
    {
     "data": {
      "text/plain": [
       "117"
      ]
     },
     "execution_count": 86,
     "metadata": {},
     "output_type": "execute_result"
    }
   ],
   "source": [
    "q1_va_l = df2['vote_average'].quantile(q= 0.25)\n",
    "q3_va_l = df2['vote_average'].quantile(q= 0.75)\n",
    "iqr_va_l = q3_va_l-q1_va_l\n",
    "va_o_l = df2[(df2['vote_average']<(q1_va_l-1.5*iqr_va_l)) | (df2['vote_average']>(q3_va_l+1.5*iqr_va_l))].shape[0]\n",
    "va_o_l"
   ]
  },
  {
   "cell_type": "code",
   "execution_count": 87,
   "metadata": {},
   "outputs": [
    {
     "data": {
      "text/plain": [
       "40"
      ]
     },
     "execution_count": 87,
     "metadata": {},
     "output_type": "execute_result"
    }
   ],
   "source": [
    "q1_vc_l = df2['vote_count'].quantile(q= 0.25)\n",
    "q3_vc_l = df2['vote_count'].quantile(q= 0.75)\n",
    "iqr_vc_l = q3_vc_l-q1_vc_l\n",
    "vc_o_l = df2[(df2['vote_count']<(q1_vc_l-1.5*iqr_vc_l)) | (df2['vote_count']>(q3_vc_l+1.5*iqr_vc_l))].shape[0]\n",
    "vc_o_l"
   ]
  },
  {
   "cell_type": "code",
   "execution_count": 88,
   "metadata": {},
   "outputs": [
    {
     "data": {
      "text/html": [
       "<div>\n",
       "<style scoped>\n",
       "    .dataframe tbody tr th:only-of-type {\n",
       "        vertical-align: middle;\n",
       "    }\n",
       "\n",
       "    .dataframe tbody tr th {\n",
       "        vertical-align: top;\n",
       "    }\n",
       "\n",
       "    .dataframe thead th {\n",
       "        text-align: right;\n",
       "    }\n",
       "</style>\n",
       "<table border=\"1\" class=\"dataframe\">\n",
       "  <thead>\n",
       "    <tr style=\"text-align: right;\">\n",
       "      <th></th>\n",
       "      <th>Features</th>\n",
       "      <th>No_of_Outliers</th>\n",
       "      <th>No_of_outlier_after_log_transformation</th>\n",
       "    </tr>\n",
       "  </thead>\n",
       "  <tbody>\n",
       "    <tr>\n",
       "      <th>0</th>\n",
       "      <td>Budget</td>\n",
       "      <td>265</td>\n",
       "      <td>670</td>\n",
       "    </tr>\n",
       "    <tr>\n",
       "      <th>1</th>\n",
       "      <td>Runtime</td>\n",
       "      <td>131</td>\n",
       "      <td>86</td>\n",
       "    </tr>\n",
       "    <tr>\n",
       "      <th>2</th>\n",
       "      <td>Vote_average</td>\n",
       "      <td>74</td>\n",
       "      <td>117</td>\n",
       "    </tr>\n",
       "    <tr>\n",
       "      <th>3</th>\n",
       "      <td>Vote_count</td>\n",
       "      <td>423</td>\n",
       "      <td>40</td>\n",
       "    </tr>\n",
       "  </tbody>\n",
       "</table>\n",
       "</div>"
      ],
      "text/plain": [
       "       Features  No_of_Outliers  No_of_outlier_after_log_transformation\n",
       "0        Budget             265                                     670\n",
       "1       Runtime             131                                      86\n",
       "2  Vote_average              74                                     117\n",
       "3    Vote_count             423                                      40"
      ]
     },
     "execution_count": 88,
     "metadata": {},
     "output_type": "execute_result"
    }
   ],
   "source": [
    "Features = ['Budget','Runtime','Vote_average','Vote_count']\n",
    "No_of_outliers = [budget_o,runtime_o,va_o,vc_o]\n",
    "No_of_outlier_after_sqrt_transformation = [budget_o_s,runtime_o_s,va_o_s,vc_o_s]\n",
    "No_of_outlier_after_log_transformation = [budget_o_l,runtime_o_l,va_o_l,vc_o_l]\n",
    "Outliers_after_log  = pd.DataFrame({'Features':Features,'No_of_Outliers':No_of_outliers,\n",
    "                           'No_of_outlier_after_log_transformation':No_of_outlier_after_log_transformation})\n",
    "Outliers_after_log"
   ]
  },
  {
   "cell_type": "code",
   "execution_count": 89,
   "metadata": {},
   "outputs": [
    {
     "data": {
      "text/html": [
       "<div>\n",
       "<style scoped>\n",
       "    .dataframe tbody tr th:only-of-type {\n",
       "        vertical-align: middle;\n",
       "    }\n",
       "\n",
       "    .dataframe tbody tr th {\n",
       "        vertical-align: top;\n",
       "    }\n",
       "\n",
       "    .dataframe thead th {\n",
       "        text-align: right;\n",
       "    }\n",
       "</style>\n",
       "<table border=\"1\" class=\"dataframe\">\n",
       "  <thead>\n",
       "    <tr style=\"text-align: right;\">\n",
       "      <th></th>\n",
       "      <th>Features</th>\n",
       "      <th>No_of_Outliers</th>\n",
       "      <th>No_of_outlier_after_sqrt_transformation</th>\n",
       "      <th>No_of_outlier_after_log_transformation</th>\n",
       "    </tr>\n",
       "  </thead>\n",
       "  <tbody>\n",
       "    <tr>\n",
       "      <th>0</th>\n",
       "      <td>Budget</td>\n",
       "      <td>265</td>\n",
       "      <td>47</td>\n",
       "      <td>670</td>\n",
       "    </tr>\n",
       "    <tr>\n",
       "      <th>1</th>\n",
       "      <td>Runtime</td>\n",
       "      <td>131</td>\n",
       "      <td>108</td>\n",
       "      <td>86</td>\n",
       "    </tr>\n",
       "    <tr>\n",
       "      <th>2</th>\n",
       "      <td>Vote_average</td>\n",
       "      <td>74</td>\n",
       "      <td>103</td>\n",
       "      <td>117</td>\n",
       "    </tr>\n",
       "    <tr>\n",
       "      <th>3</th>\n",
       "      <td>Vote_count</td>\n",
       "      <td>423</td>\n",
       "      <td>190</td>\n",
       "      <td>40</td>\n",
       "    </tr>\n",
       "  </tbody>\n",
       "</table>\n",
       "</div>"
      ],
      "text/plain": [
       "       Features  No_of_Outliers  No_of_outlier_after_sqrt_transformation  \\\n",
       "0        Budget             265                                       47   \n",
       "1       Runtime             131                                      108   \n",
       "2  Vote_average              74                                      103   \n",
       "3    Vote_count             423                                      190   \n",
       "\n",
       "   No_of_outlier_after_log_transformation  \n",
       "0                                     670  \n",
       "1                                      86  \n",
       "2                                     117  \n",
       "3                                      40  "
      ]
     },
     "execution_count": 89,
     "metadata": {},
     "output_type": "execute_result"
    }
   ],
   "source": [
    "Features = ['Budget','Runtime','Vote_average','Vote_count']\n",
    "No_of_outliers = [budget_o,runtime_o,va_o,vc_o]\n",
    "No_of_outlier_after_sqrt_transformation = [budget_o_s,runtime_o_s,va_o_s,vc_o_s]\n",
    "No_of_outlier_after_log_transformation = [budget_o_l,runtime_o_l,va_o_l,vc_o_l]\n",
    "Outliers_after_transformation  = pd.DataFrame({'Features':Features,'No_of_Outliers':No_of_outliers,\n",
    "                          'No_of_outlier_after_sqrt_transformation':No_of_outlier_after_sqrt_transformation,\n",
    "                           'No_of_outlier_after_log_transformation':No_of_outlier_after_log_transformation})\n",
    "Outliers_after_transformation"
   ]
  },
  {
   "cell_type": "markdown",
   "metadata": {},
   "source": [
    "After doing Square Root and log transformation, Budget outliers are mostly gone by Square Root Transformation,Runtime outliers are mostly gone by Log Transformation, Vote_average outliers are not gone but increased, Vote_count outliers are mostly gone by log transformation."
   ]
  },
  {
   "cell_type": "markdown",
   "metadata": {},
   "source": [
    "## Transformation:"
   ]
  },
  {
   "cell_type": "code",
   "execution_count": 90,
   "metadata": {},
   "outputs": [],
   "source": [
    "df['budget'] = ft_sqrt.fit_transform(df[['budget']])\n",
    "df['runtime'] = ft_log.fit_transform(df[['runtime']])\n",
    "df['vote_count'] = ft_log.fit_transform(df[['vote_count']])"
   ]
  },
  {
   "cell_type": "code",
   "execution_count": 91,
   "metadata": {},
   "outputs": [
    {
     "data": {
      "text/html": [
       "<div>\n",
       "<style scoped>\n",
       "    .dataframe tbody tr th:only-of-type {\n",
       "        vertical-align: middle;\n",
       "    }\n",
       "\n",
       "    .dataframe tbody tr th {\n",
       "        vertical-align: top;\n",
       "    }\n",
       "\n",
       "    .dataframe thead th {\n",
       "        text-align: right;\n",
       "    }\n",
       "</style>\n",
       "<table border=\"1\" class=\"dataframe\">\n",
       "  <thead>\n",
       "    <tr style=\"text-align: right;\">\n",
       "      <th></th>\n",
       "      <th>budget</th>\n",
       "      <th>genres</th>\n",
       "      <th>keywords</th>\n",
       "      <th>original_language</th>\n",
       "      <th>popularity</th>\n",
       "      <th>production_companies</th>\n",
       "      <th>production_countries</th>\n",
       "      <th>release_date</th>\n",
       "      <th>revenue</th>\n",
       "      <th>runtime</th>\n",
       "      <th>spoken_languages</th>\n",
       "      <th>vote_average</th>\n",
       "      <th>vote_count</th>\n",
       "    </tr>\n",
       "  </thead>\n",
       "  <tbody>\n",
       "    <tr>\n",
       "      <th>0</th>\n",
       "      <td>15394.804318</td>\n",
       "      <td>Action</td>\n",
       "      <td>culture clash</td>\n",
       "      <td>en</td>\n",
       "      <td>150</td>\n",
       "      <td>Ingenious Film Partners</td>\n",
       "      <td>US</td>\n",
       "      <td>2009</td>\n",
       "      <td>2787965087</td>\n",
       "      <td>5.093750</td>\n",
       "      <td>en</td>\n",
       "      <td>7.2</td>\n",
       "      <td>9.375940</td>\n",
       "    </tr>\n",
       "    <tr>\n",
       "      <th>1</th>\n",
       "      <td>17320.508076</td>\n",
       "      <td>Adventure</td>\n",
       "      <td>ocean</td>\n",
       "      <td>en</td>\n",
       "      <td>139</td>\n",
       "      <td>Walt Disney Pictures</td>\n",
       "      <td>US</td>\n",
       "      <td>2007</td>\n",
       "      <td>961000000</td>\n",
       "      <td>5.135798</td>\n",
       "      <td>en</td>\n",
       "      <td>6.9</td>\n",
       "      <td>8.412055</td>\n",
       "    </tr>\n",
       "    <tr>\n",
       "      <th>2</th>\n",
       "      <td>15652.475842</td>\n",
       "      <td>Action</td>\n",
       "      <td>spy</td>\n",
       "      <td>en</td>\n",
       "      <td>107</td>\n",
       "      <td>Columbia Pictures</td>\n",
       "      <td>GB</td>\n",
       "      <td>2015</td>\n",
       "      <td>880674609</td>\n",
       "      <td>5.003946</td>\n",
       "      <td>fr</td>\n",
       "      <td>6.3</td>\n",
       "      <td>8.404472</td>\n",
       "    </tr>\n",
       "    <tr>\n",
       "      <th>3</th>\n",
       "      <td>15811.388301</td>\n",
       "      <td>Action</td>\n",
       "      <td>dc comics</td>\n",
       "      <td>en</td>\n",
       "      <td>112</td>\n",
       "      <td>Legendary Pictures</td>\n",
       "      <td>US</td>\n",
       "      <td>2012</td>\n",
       "      <td>1084939099</td>\n",
       "      <td>5.111988</td>\n",
       "      <td>en</td>\n",
       "      <td>7.6</td>\n",
       "      <td>9.116799</td>\n",
       "    </tr>\n",
       "    <tr>\n",
       "      <th>4</th>\n",
       "      <td>16124.515497</td>\n",
       "      <td>Action</td>\n",
       "      <td>based on novel</td>\n",
       "      <td>en</td>\n",
       "      <td>43</td>\n",
       "      <td>Walt Disney Pictures</td>\n",
       "      <td>US</td>\n",
       "      <td>2012</td>\n",
       "      <td>284139100</td>\n",
       "      <td>4.890349</td>\n",
       "      <td>en</td>\n",
       "      <td>6.1</td>\n",
       "      <td>7.661527</td>\n",
       "    </tr>\n",
       "  </tbody>\n",
       "</table>\n",
       "</div>"
      ],
      "text/plain": [
       "         budget     genres        keywords original_language  popularity  \\\n",
       "0  15394.804318     Action   culture clash                en         150   \n",
       "1  17320.508076  Adventure           ocean                en         139   \n",
       "2  15652.475842     Action             spy                en         107   \n",
       "3  15811.388301     Action       dc comics                en         112   \n",
       "4  16124.515497     Action  based on novel                en          43   \n",
       "\n",
       "      production_companies production_countries  release_date     revenue  \\\n",
       "0  Ingenious Film Partners                   US          2009  2787965087   \n",
       "1     Walt Disney Pictures                   US          2007   961000000   \n",
       "2        Columbia Pictures                   GB          2015   880674609   \n",
       "3       Legendary Pictures                   US          2012  1084939099   \n",
       "4     Walt Disney Pictures                   US          2012   284139100   \n",
       "\n",
       "    runtime spoken_languages  vote_average  vote_count  \n",
       "0  5.093750               en           7.2    9.375940  \n",
       "1  5.135798               en           6.9    8.412055  \n",
       "2  5.003946               fr           6.3    8.404472  \n",
       "3  5.111988               en           7.6    9.116799  \n",
       "4  4.890349               en           6.1    7.661527  "
      ]
     },
     "execution_count": 91,
     "metadata": {},
     "output_type": "execute_result"
    }
   ],
   "source": [
    "df.head()"
   ]
  },
  {
   "cell_type": "code",
   "execution_count": 92,
   "metadata": {},
   "outputs": [
    {
     "data": {
      "text/plain": [
       "Index(['genres', 'keywords', 'original_language', 'production_companies',\n",
       "       'production_countries', 'spoken_languages'],\n",
       "      dtype='object')"
      ]
     },
     "execution_count": 92,
     "metadata": {},
     "output_type": "execute_result"
    }
   ],
   "source": [
    "df.select_dtypes('object').columns"
   ]
  },
  {
   "cell_type": "code",
   "execution_count": 93,
   "metadata": {},
   "outputs": [],
   "source": [
    "from sklearn.preprocessing import LabelEncoder\n",
    "le = LabelEncoder()\n",
    "for i in df.select_dtypes('object').columns:\n",
    "    df[i] = le.fit_transform(df[i])"
   ]
  },
  {
   "cell_type": "code",
   "execution_count": 94,
   "metadata": {},
   "outputs": [
    {
     "data": {
      "text/html": [
       "<div>\n",
       "<style scoped>\n",
       "    .dataframe tbody tr th:only-of-type {\n",
       "        vertical-align: middle;\n",
       "    }\n",
       "\n",
       "    .dataframe tbody tr th {\n",
       "        vertical-align: top;\n",
       "    }\n",
       "\n",
       "    .dataframe thead th {\n",
       "        text-align: right;\n",
       "    }\n",
       "</style>\n",
       "<table border=\"1\" class=\"dataframe\">\n",
       "  <thead>\n",
       "    <tr style=\"text-align: right;\">\n",
       "      <th></th>\n",
       "      <th>budget</th>\n",
       "      <th>genres</th>\n",
       "      <th>keywords</th>\n",
       "      <th>original_language</th>\n",
       "      <th>popularity</th>\n",
       "      <th>production_companies</th>\n",
       "      <th>production_countries</th>\n",
       "      <th>release_date</th>\n",
       "      <th>revenue</th>\n",
       "      <th>runtime</th>\n",
       "      <th>spoken_languages</th>\n",
       "      <th>vote_average</th>\n",
       "      <th>vote_count</th>\n",
       "    </tr>\n",
       "  </thead>\n",
       "  <tbody>\n",
       "    <tr>\n",
       "      <th>0</th>\n",
       "      <td>15394.804318</td>\n",
       "      <td>0</td>\n",
       "      <td>295</td>\n",
       "      <td>6</td>\n",
       "      <td>150</td>\n",
       "      <td>546</td>\n",
       "      <td>61</td>\n",
       "      <td>2009</td>\n",
       "      <td>2787965087</td>\n",
       "      <td>5.093750</td>\n",
       "      <td>13</td>\n",
       "      <td>7.2</td>\n",
       "      <td>9.375940</td>\n",
       "    </tr>\n",
       "    <tr>\n",
       "      <th>1</th>\n",
       "      <td>17320.508076</td>\n",
       "      <td>1</td>\n",
       "      <td>827</td>\n",
       "      <td>6</td>\n",
       "      <td>139</td>\n",
       "      <td>1126</td>\n",
       "      <td>61</td>\n",
       "      <td>2007</td>\n",
       "      <td>961000000</td>\n",
       "      <td>5.135798</td>\n",
       "      <td>13</td>\n",
       "      <td>6.9</td>\n",
       "      <td>8.412055</td>\n",
       "    </tr>\n",
       "    <tr>\n",
       "      <th>2</th>\n",
       "      <td>15652.475842</td>\n",
       "      <td>0</td>\n",
       "      <td>1113</td>\n",
       "      <td>6</td>\n",
       "      <td>107</td>\n",
       "      <td>236</td>\n",
       "      <td>26</td>\n",
       "      <td>2015</td>\n",
       "      <td>880674609</td>\n",
       "      <td>5.003946</td>\n",
       "      <td>18</td>\n",
       "      <td>6.3</td>\n",
       "      <td>8.404472</td>\n",
       "    </tr>\n",
       "    <tr>\n",
       "      <th>3</th>\n",
       "      <td>15811.388301</td>\n",
       "      <td>0</td>\n",
       "      <td>309</td>\n",
       "      <td>6</td>\n",
       "      <td>112</td>\n",
       "      <td>621</td>\n",
       "      <td>61</td>\n",
       "      <td>2012</td>\n",
       "      <td>1084939099</td>\n",
       "      <td>5.111988</td>\n",
       "      <td>13</td>\n",
       "      <td>7.6</td>\n",
       "      <td>9.116799</td>\n",
       "    </tr>\n",
       "    <tr>\n",
       "      <th>4</th>\n",
       "      <td>16124.515497</td>\n",
       "      <td>0</td>\n",
       "      <td>99</td>\n",
       "      <td>6</td>\n",
       "      <td>43</td>\n",
       "      <td>1126</td>\n",
       "      <td>61</td>\n",
       "      <td>2012</td>\n",
       "      <td>284139100</td>\n",
       "      <td>4.890349</td>\n",
       "      <td>13</td>\n",
       "      <td>6.1</td>\n",
       "      <td>7.661527</td>\n",
       "    </tr>\n",
       "  </tbody>\n",
       "</table>\n",
       "</div>"
      ],
      "text/plain": [
       "         budget  genres  keywords  original_language  popularity  \\\n",
       "0  15394.804318       0       295                  6         150   \n",
       "1  17320.508076       1       827                  6         139   \n",
       "2  15652.475842       0      1113                  6         107   \n",
       "3  15811.388301       0       309                  6         112   \n",
       "4  16124.515497       0        99                  6          43   \n",
       "\n",
       "   production_companies  production_countries  release_date     revenue  \\\n",
       "0                   546                    61          2009  2787965087   \n",
       "1                  1126                    61          2007   961000000   \n",
       "2                   236                    26          2015   880674609   \n",
       "3                   621                    61          2012  1084939099   \n",
       "4                  1126                    61          2012   284139100   \n",
       "\n",
       "    runtime  spoken_languages  vote_average  vote_count  \n",
       "0  5.093750                13           7.2    9.375940  \n",
       "1  5.135798                13           6.9    8.412055  \n",
       "2  5.003946                18           6.3    8.404472  \n",
       "3  5.111988                13           7.6    9.116799  \n",
       "4  4.890349                13           6.1    7.661527  "
      ]
     },
     "execution_count": 94,
     "metadata": {},
     "output_type": "execute_result"
    }
   ],
   "source": [
    "df.head()"
   ]
  },
  {
   "cell_type": "code",
   "execution_count": null,
   "metadata": {},
   "outputs": [],
   "source": []
  },
  {
   "cell_type": "code",
   "execution_count": 95,
   "metadata": {},
   "outputs": [],
   "source": [
    "import statsmodels.api as sm\n",
    "from statsmodels.stats.outliers_influence import variance_inflation_factor\n",
    "####\n",
    "from sklearn.linear_model import LinearRegression\n",
    "from sklearn.tree import DecisionTreeRegressor\n",
    "from sklearn.tree import ExtraTreeRegressor\n",
    "#####\n",
    "from sklearn.ensemble import BaggingRegressor\n",
    "from sklearn.ensemble import ExtraTreesRegressor\n",
    "from sklearn.ensemble import GradientBoostingRegressor\n",
    "from sklearn.ensemble import RandomForestRegressor\n",
    "import xgboost as xgboost"
   ]
  },
  {
   "cell_type": "code",
   "execution_count": 96,
   "metadata": {},
   "outputs": [],
   "source": [
    "from sklearn.metrics import mean_squared_error,r2_score,mean_absolute_error\n",
    "from sklearn.model_selection import train_test_split"
   ]
  },
  {
   "cell_type": "code",
   "execution_count": 97,
   "metadata": {},
   "outputs": [],
   "source": [
    "lr = LinearRegression()\n",
    "\n",
    "dt = DecisionTreeRegressor()\n",
    "et = ExtraTreeRegressor()\n",
    "\n",
    "\n",
    "br = BaggingRegressor()\n",
    "etr = ExtraTreesRegressor()\n",
    "gbr = GradientBoostingRegressor()\n",
    "rfr = RandomForestRegressor()\n",
    "xgb = xgboost.XGBRegressor()"
   ]
  },
  {
   "cell_type": "code",
   "execution_count": 98,
   "metadata": {},
   "outputs": [],
   "source": [
    "X = df.drop('revenue',axis=1)\n",
    "y = df['revenue']"
   ]
  },
  {
   "cell_type": "code",
   "execution_count": 99,
   "metadata": {},
   "outputs": [
    {
     "data": {
      "text/html": [
       "<table class=\"simpletable\">\n",
       "<caption>OLS Regression Results</caption>\n",
       "<tr>\n",
       "  <th>Dep. Variable:</th>         <td>revenue</td>     <th>  R-squared:         </th> <td>   0.562</td> \n",
       "</tr>\n",
       "<tr>\n",
       "  <th>Model:</th>                   <td>OLS</td>       <th>  Adj. R-squared:    </th> <td>   0.561</td> \n",
       "</tr>\n",
       "<tr>\n",
       "  <th>Method:</th>             <td>Least Squares</td>  <th>  F-statistic:       </th> <td>   443.8</td> \n",
       "</tr>\n",
       "<tr>\n",
       "  <th>Date:</th>             <td>Fri, 31 Jan 2020</td> <th>  Prob (F-statistic):</th>  <td>  0.00</td>  \n",
       "</tr>\n",
       "<tr>\n",
       "  <th>Time:</th>                 <td>15:52:31</td>     <th>  Log-Likelihood:    </th> <td> -83102.</td> \n",
       "</tr>\n",
       "<tr>\n",
       "  <th>No. Observations:</th>      <td>  4162</td>      <th>  AIC:               </th> <td>1.662e+05</td>\n",
       "</tr>\n",
       "<tr>\n",
       "  <th>Df Residuals:</th>          <td>  4149</td>      <th>  BIC:               </th> <td>1.663e+05</td>\n",
       "</tr>\n",
       "<tr>\n",
       "  <th>Df Model:</th>              <td>    12</td>      <th>                     </th>     <td> </td>    \n",
       "</tr>\n",
       "<tr>\n",
       "  <th>Covariance Type:</th>      <td>nonrobust</td>    <th>                     </th>     <td> </td>    \n",
       "</tr>\n",
       "</table>\n",
       "<table class=\"simpletable\">\n",
       "<tr>\n",
       "            <td></td>              <th>coef</th>     <th>std err</th>      <th>t</th>      <th>P>|t|</th>  <th>[0.025</th>    <th>0.975]</th>  \n",
       "</tr>\n",
       "<tr>\n",
       "  <th>const</th>                <td> 3.817e+08</td> <td> 3.16e+08</td> <td>    1.206</td> <td> 0.228</td> <td>-2.39e+08</td> <td>    1e+09</td>\n",
       "</tr>\n",
       "<tr>\n",
       "  <th>budget</th>               <td> 2.035e+04</td> <td>  712.997</td> <td>   28.543</td> <td> 0.000</td> <td>  1.9e+04</td> <td> 2.17e+04</td>\n",
       "</tr>\n",
       "<tr>\n",
       "  <th>genres</th>               <td>-1.051e+06</td> <td> 3.84e+05</td> <td>   -2.741</td> <td> 0.006</td> <td> -1.8e+06</td> <td>-2.99e+05</td>\n",
       "</tr>\n",
       "<tr>\n",
       "  <th>keywords</th>             <td> 4942.7603</td> <td> 4656.116</td> <td>    1.062</td> <td> 0.288</td> <td>-4185.722</td> <td> 1.41e+04</td>\n",
       "</tr>\n",
       "<tr>\n",
       "  <th>original_language</th>    <td> 7.704e+05</td> <td> 7.29e+05</td> <td>    1.057</td> <td> 0.291</td> <td>-6.59e+05</td> <td>  2.2e+06</td>\n",
       "</tr>\n",
       "<tr>\n",
       "  <th>popularity</th>           <td> 1.973e+06</td> <td> 6.89e+04</td> <td>   28.623</td> <td> 0.000</td> <td> 1.84e+06</td> <td> 2.11e+06</td>\n",
       "</tr>\n",
       "<tr>\n",
       "  <th>production_companies</th> <td> 1657.6467</td> <td> 5178.938</td> <td>    0.320</td> <td> 0.749</td> <td>-8495.847</td> <td> 1.18e+04</td>\n",
       "</tr>\n",
       "<tr>\n",
       "  <th>production_countries</th> <td> 3.066e+05</td> <td> 9.49e+04</td> <td>    3.230</td> <td> 0.001</td> <td>  1.2e+05</td> <td> 4.93e+05</td>\n",
       "</tr>\n",
       "<tr>\n",
       "  <th>release_date</th>         <td> -2.93e+05</td> <td> 1.52e+05</td> <td>   -1.933</td> <td> 0.053</td> <td> -5.9e+05</td> <td> 4219.321</td>\n",
       "</tr>\n",
       "<tr>\n",
       "  <th>runtime</th>              <td> 1.231e+07</td> <td> 1.04e+07</td> <td>    1.179</td> <td> 0.239</td> <td>-8.16e+06</td> <td> 3.28e+07</td>\n",
       "</tr>\n",
       "<tr>\n",
       "  <th>spoken_languages</th>     <td>-1.147e+05</td> <td> 3.32e+05</td> <td>   -0.345</td> <td> 0.730</td> <td>-7.66e+05</td> <td> 5.37e+05</td>\n",
       "</tr>\n",
       "<tr>\n",
       "  <th>vote_average</th>         <td> 6.044e+06</td> <td> 2.27e+06</td> <td>    2.665</td> <td> 0.008</td> <td>  1.6e+06</td> <td> 1.05e+07</td>\n",
       "</tr>\n",
       "<tr>\n",
       "  <th>vote_count</th>           <td> 8.368e+06</td> <td> 1.75e+06</td> <td>    4.775</td> <td> 0.000</td> <td> 4.93e+06</td> <td> 1.18e+07</td>\n",
       "</tr>\n",
       "</table>\n",
       "<table class=\"simpletable\">\n",
       "<tr>\n",
       "  <th>Omnibus:</th>       <td>3726.929</td> <th>  Durbin-Watson:     </th>  <td>   1.354</td> \n",
       "</tr>\n",
       "<tr>\n",
       "  <th>Prob(Omnibus):</th>  <td> 0.000</td>  <th>  Jarque-Bera (JB):  </th> <td>423033.363</td>\n",
       "</tr>\n",
       "<tr>\n",
       "  <th>Skew:</th>           <td> 3.792</td>  <th>  Prob(JB):          </th>  <td>    0.00</td> \n",
       "</tr>\n",
       "<tr>\n",
       "  <th>Kurtosis:</th>       <td>51.805</td>  <th>  Cond. No.          </th>  <td>1.08e+06</td> \n",
       "</tr>\n",
       "</table><br/><br/>Warnings:<br/>[1] Standard Errors assume that the covariance matrix of the errors is correctly specified.<br/>[2] The condition number is large, 1.08e+06. This might indicate that there are<br/>strong multicollinearity or other numerical problems."
      ],
      "text/plain": [
       "<class 'statsmodels.iolib.summary.Summary'>\n",
       "\"\"\"\n",
       "                            OLS Regression Results                            \n",
       "==============================================================================\n",
       "Dep. Variable:                revenue   R-squared:                       0.562\n",
       "Model:                            OLS   Adj. R-squared:                  0.561\n",
       "Method:                 Least Squares   F-statistic:                     443.8\n",
       "Date:                Fri, 31 Jan 2020   Prob (F-statistic):               0.00\n",
       "Time:                        15:52:31   Log-Likelihood:                -83102.\n",
       "No. Observations:                4162   AIC:                         1.662e+05\n",
       "Df Residuals:                    4149   BIC:                         1.663e+05\n",
       "Df Model:                          12                                         \n",
       "Covariance Type:            nonrobust                                         \n",
       "========================================================================================\n",
       "                           coef    std err          t      P>|t|      [0.025      0.975]\n",
       "----------------------------------------------------------------------------------------\n",
       "const                 3.817e+08   3.16e+08      1.206      0.228   -2.39e+08       1e+09\n",
       "budget                2.035e+04    712.997     28.543      0.000     1.9e+04    2.17e+04\n",
       "genres               -1.051e+06   3.84e+05     -2.741      0.006    -1.8e+06   -2.99e+05\n",
       "keywords              4942.7603   4656.116      1.062      0.288   -4185.722    1.41e+04\n",
       "original_language     7.704e+05   7.29e+05      1.057      0.291   -6.59e+05     2.2e+06\n",
       "popularity            1.973e+06   6.89e+04     28.623      0.000    1.84e+06    2.11e+06\n",
       "production_companies  1657.6467   5178.938      0.320      0.749   -8495.847    1.18e+04\n",
       "production_countries  3.066e+05   9.49e+04      3.230      0.001     1.2e+05    4.93e+05\n",
       "release_date          -2.93e+05   1.52e+05     -1.933      0.053    -5.9e+05    4219.321\n",
       "runtime               1.231e+07   1.04e+07      1.179      0.239   -8.16e+06    3.28e+07\n",
       "spoken_languages     -1.147e+05   3.32e+05     -0.345      0.730   -7.66e+05    5.37e+05\n",
       "vote_average          6.044e+06   2.27e+06      2.665      0.008     1.6e+06    1.05e+07\n",
       "vote_count            8.368e+06   1.75e+06      4.775      0.000    4.93e+06    1.18e+07\n",
       "==============================================================================\n",
       "Omnibus:                     3726.929   Durbin-Watson:                   1.354\n",
       "Prob(Omnibus):                  0.000   Jarque-Bera (JB):           423033.363\n",
       "Skew:                           3.792   Prob(JB):                         0.00\n",
       "Kurtosis:                      51.805   Cond. No.                     1.08e+06\n",
       "==============================================================================\n",
       "\n",
       "Warnings:\n",
       "[1] Standard Errors assume that the covariance matrix of the errors is correctly specified.\n",
       "[2] The condition number is large, 1.08e+06. This might indicate that there are\n",
       "strong multicollinearity or other numerical problems.\n",
       "\"\"\""
      ]
     },
     "execution_count": 99,
     "metadata": {},
     "output_type": "execute_result"
    }
   ],
   "source": [
    "X_constant = sm.add_constant(X)\n",
    "lin_reg = sm.OLS(y,X_constant).fit()\n",
    "lin_reg.summary()"
   ]
  },
  {
   "cell_type": "code",
   "execution_count": 100,
   "metadata": {},
   "outputs": [
    {
     "data": {
      "text/html": [
       "<div>\n",
       "<style scoped>\n",
       "    .dataframe tbody tr th:only-of-type {\n",
       "        vertical-align: middle;\n",
       "    }\n",
       "\n",
       "    .dataframe tbody tr th {\n",
       "        vertical-align: top;\n",
       "    }\n",
       "\n",
       "    .dataframe thead th {\n",
       "        text-align: right;\n",
       "    }\n",
       "</style>\n",
       "<table border=\"1\" class=\"dataframe\">\n",
       "  <thead>\n",
       "    <tr style=\"text-align: right;\">\n",
       "      <th></th>\n",
       "      <th>vif</th>\n",
       "    </tr>\n",
       "  </thead>\n",
       "  <tbody>\n",
       "    <tr>\n",
       "      <th>budget</th>\n",
       "      <td>1.970211</td>\n",
       "    </tr>\n",
       "    <tr>\n",
       "      <th>genres</th>\n",
       "      <td>1.045731</td>\n",
       "    </tr>\n",
       "    <tr>\n",
       "      <th>keywords</th>\n",
       "      <td>1.003447</td>\n",
       "    </tr>\n",
       "    <tr>\n",
       "      <th>original_language</th>\n",
       "      <td>1.320557</td>\n",
       "    </tr>\n",
       "    <tr>\n",
       "      <th>popularity</th>\n",
       "      <td>1.687386</td>\n",
       "    </tr>\n",
       "    <tr>\n",
       "      <th>production_companies</th>\n",
       "      <td>1.038377</td>\n",
       "    </tr>\n",
       "    <tr>\n",
       "      <th>production_countries</th>\n",
       "      <td>1.040773</td>\n",
       "    </tr>\n",
       "    <tr>\n",
       "      <th>release_date</th>\n",
       "      <td>1.206237</td>\n",
       "    </tr>\n",
       "    <tr>\n",
       "      <th>runtime</th>\n",
       "      <td>1.248416</td>\n",
       "    </tr>\n",
       "    <tr>\n",
       "      <th>spoken_languages</th>\n",
       "      <td>1.263734</td>\n",
       "    </tr>\n",
       "    <tr>\n",
       "      <th>vote_average</th>\n",
       "      <td>1.537518</td>\n",
       "    </tr>\n",
       "    <tr>\n",
       "      <th>vote_count</th>\n",
       "      <td>2.611379</td>\n",
       "    </tr>\n",
       "  </tbody>\n",
       "</table>\n",
       "</div>"
      ],
      "text/plain": [
       "                           vif\n",
       "budget                1.970211\n",
       "genres                1.045731\n",
       "keywords              1.003447\n",
       "original_language     1.320557\n",
       "popularity            1.687386\n",
       "production_companies  1.038377\n",
       "production_countries  1.040773\n",
       "release_date          1.206237\n",
       "runtime               1.248416\n",
       "spoken_languages      1.263734\n",
       "vote_average          1.537518\n",
       "vote_count            2.611379"
      ]
     },
     "execution_count": 100,
     "metadata": {},
     "output_type": "execute_result"
    }
   ],
   "source": [
    "vif = [variance_inflation_factor(X_constant.values, i) for i in range(X_constant.shape[1])]\n",
    "pd.DataFrame({'vif': vif[1:]}, index=X.columns)"
   ]
  },
  {
   "cell_type": "markdown",
   "metadata": {},
   "source": [
    "### Here,we can know that there is no multi - collinearity. between the features."
   ]
  },
  {
   "cell_type": "code",
   "execution_count": 101,
   "metadata": {},
   "outputs": [],
   "source": [
    "train = []\n",
    "test = []\n",
    "mae = []\n",
    "mape = []\n",
    "rmse = []"
   ]
  },
  {
   "cell_type": "code",
   "execution_count": 102,
   "metadata": {},
   "outputs": [],
   "source": [
    "def mean_absolute_percentage_error(y_true, y_pred): \n",
    "    y_true, y_pred = np.array(y_true), np.array(y_pred)\n",
    "    return np.mean(np.abs((y_true - y_pred) / y_true)) * 100"
   ]
  },
  {
   "cell_type": "code",
   "execution_count": 103,
   "metadata": {},
   "outputs": [],
   "source": [
    "def root_mean_squared_error(y_true,y_pred):\n",
    "    y_true, y_pred = np.array(y_true), np.array(y_pred)\n",
    "    return np.sqrt(mean_squared_error(y_true,y_pred))"
   ]
  },
  {
   "cell_type": "code",
   "execution_count": 104,
   "metadata": {},
   "outputs": [],
   "source": [
    "metrics = [mean_absolute_error,mean_absolute_percentage_error,root_mean_squared_error]"
   ]
  },
  {
   "cell_type": "code",
   "execution_count": 105,
   "metadata": {},
   "outputs": [],
   "source": [
    "xtrain,xtest,ytrain,ytest = train_test_split(X,y,test_size=0.3,random_state=42)"
   ]
  },
  {
   "cell_type": "markdown",
   "metadata": {},
   "source": [
    "### Linear Regression:"
   ]
  },
  {
   "cell_type": "code",
   "execution_count": 106,
   "metadata": {},
   "outputs": [
    {
     "name": "stdout",
     "output_type": "stream",
     "text": [
      "R2_Score of Train:  0.592129499171251\n",
      "R2_Score of Test:  0.5115584087807857\n",
      "Mean Absolute error 73212946.055945\n",
      "Mean Absolute percentage error inf\n",
      "Root Mean Squared error 141412501.4202562\n"
     ]
    }
   ],
   "source": [
    "lr.fit(xtrain,ytrain)\n",
    "ypred = lr.predict(xtest)\n",
    "print('R2_Score of Train: ',lr.score(xtrain,ytrain))\n",
    "train.append(lr.score(xtrain,ytrain))\n",
    "print('R2_Score of Test: ',lr.score(xtest,ytest))\n",
    "test.append(lr.score(xtest,ytest))\n",
    "print('Mean Absolute error',mean_absolute_error(ytest,ypred))\n",
    "mae.append(mean_absolute_error(ytest,ypred))\n",
    "print('Mean Absolute percentage error',mean_absolute_percentage_error(ytest,ypred))\n",
    "mape.append(mean_absolute_percentage_error(ytest,ypred))\n",
    "print('Root Mean Squared error',root_mean_squared_error(ytest,ypred))\n",
    "rmse.append(root_mean_squared_error(ytest,ypred))"
   ]
  },
  {
   "cell_type": "code",
   "execution_count": null,
   "metadata": {},
   "outputs": [],
   "source": []
  },
  {
   "cell_type": "code",
   "execution_count": null,
   "metadata": {},
   "outputs": [],
   "source": []
  },
  {
   "cell_type": "code",
   "execution_count": null,
   "metadata": {},
   "outputs": [],
   "source": []
  },
  {
   "cell_type": "code",
   "execution_count": null,
   "metadata": {},
   "outputs": [],
   "source": []
  },
  {
   "cell_type": "code",
   "execution_count": null,
   "metadata": {},
   "outputs": [],
   "source": []
  },
  {
   "cell_type": "code",
   "execution_count": null,
   "metadata": {},
   "outputs": [],
   "source": []
  },
  {
   "cell_type": "code",
   "execution_count": null,
   "metadata": {},
   "outputs": [],
   "source": []
  },
  {
   "cell_type": "code",
   "execution_count": null,
   "metadata": {},
   "outputs": [],
   "source": []
  }
 ],
 "metadata": {
  "kernelspec": {
   "display_name": "Python 3",
   "language": "python",
   "name": "python3"
  },
  "language_info": {
   "codemirror_mode": {
    "name": "ipython",
    "version": 3
   },
   "file_extension": ".py",
   "mimetype": "text/x-python",
   "name": "python",
   "nbconvert_exporter": "python",
   "pygments_lexer": "ipython3",
   "version": "3.7.3"
  }
 },
 "nbformat": 4,
 "nbformat_minor": 2
}
